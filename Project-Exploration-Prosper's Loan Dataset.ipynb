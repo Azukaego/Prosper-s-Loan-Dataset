{
 "cells": [
  {
   "cell_type": "markdown",
   "metadata": {},
   "source": [
    "# Prosper's Loan Dataset\n",
    "## by Azukaego Umeononigwe\n",
    "\n",
    "## Introduction\n",
    "The dataset describes the loan data from Prosper. Variables include loan amount, interest rate, income, status of loan, occupation amongst other variables and these variables are described in details below;\n",
    "\n",
    "1. ListingKey - Unique key for each listing, same value as the 'key' used in the listing object in the API.\n",
    "2. ListingNumber - The number that uniquely identifies the listing to the public as displayed on the website.\n",
    "3. ListingCreationDate - The date the listing was created.\n",
    "4. CreditGrade - The Credit rating that was assigned at the time the listing went live. Applicable for listings pre-2009 period and will only be populated for those listings. \n",
    "5. Term - The length of the loan expressed in months.\n",
    "6. LoanStaus - The current status of the loan: Cancelled,  Chargedoff, Completed, Current, Defaulted, FinalPaymentInProgress, PastDue. The PastDue status will be accompanied by a delinquency bucket.\n",
    "7. ClosedDate - Closed date is applicable for Cancelled, Completed, Chargedoff and Defaulted loan statuses.\n",
    "8. BorrowerAPR - The Borrower's Annual Percentage Rate (APR) for the loan.\n",
    "9. BorrowerRate - The Borrower's interest rate for this loan.\n",
    "10. LenderYield - The Lender yield on the loan. Lender yield is equal to the interest rate on the loan less the servicing fee.\n",
    "11. EstimatedEffectiveYield - Effective yield is equal to the borrower interest rate (i) minus the servicing fee rate, (ii) minus estimated uncollected interest on charge-offs, (iii) plus estimated collected late fees.  Applicable for loans originated after July 2009.\n",
    "12. EstimatedLoss - Estimated loss is the estimated principal loss on charge-offs. Applicable for loans originated after July 2009.\n",
    "13. EstimatedReturn - The estimated return assigned to the listing at the time it was created. Estimated return is the difference between the Estimated Effective Yield and the Estimated Loss Rate. Applicable for loans originated after July 2009.\n",
    "14. PropserRating (Numeric) - The  Prosper Rating assigned at the time the listing was created: 0 - N/A, 1 - HR, 2 - E, 3 - D, 4 - C, 5 - B, 6 - A, 7 - AA.  Applicable for loans originated after July 2009.\n",
    "15. ProsperRating (Alpha) - The Prosper Rating assigned at the time the listing was created between AA - HR.  Applicable for loans originated after July 2009.\n",
    "16. ProsperScore - A custom risk score built using historical Prosper data. The score ranges from 1-10, with 10 being the best, or lowest risk score.  Applicable for loans originated after July 2009.\n",
    "17. ListingCategory - The category of the listing that the borrower selected when posting their listing: 0 - Not Available, 1 - Debt Consolidation, 2 - Home Improvement, 3 - Business, 4 - Personal Loan, 5 - Student Use, 6 - Auto, 7- Other, 8 - Baby&Adoption, 9 - Boat, 10 - Cosmetic Procedure, 11 - Engagement Ring, 12 - Green Loans, 13 - Household Expenses, 14 - Large Purchases, 15 - Medical/Dental, 16 - Motorcycle, 17 - RV, 18 - Taxes, 19 - Vacation, 20 - Wedding Loans\n",
    "18. BorrowerState - The two letter abbreviation of the state of the address of the borrower at the time the Listing was created.\n",
    "19. Occupation - The Occupation selected by the Borrower at the time they created the listing.\n",
    "20. EmploymentStatus - The employment status of the borrower at the time they posted the listing.\n",
    "21. EmploymentStatusDuration - The length in months of the employment status at the time the listing was created.\n",
    "22. IsBorrowerHomeowner - A Borrower will be classified as a homowner if they have a mortgage on their credit profile or provide documentation confirming they are a homeowner.\n",
    "23. CurrentlyInGroup - Specifies whether or not the Borrower was in a group at the time the listing was created.\n",
    "24. GroupKey - The Key of the group in which the Borrower is a member of. Value will be null if the borrower does not have a group affiliation.\n",
    "25. DateCreditPulled - The date the credit profile was pulled. \n",
    "26. CreditScoreRangeLower - The lower value representing the range of the borrower's credit score as provided by a consumer credit rating agency.\n",
    "27. CreditScoreRangeUpper - The upper value representing the range of the borrower's credit score as provided by a consumer credit rating agency.\n",
    "28. FirstRecordedCreditLine - The date the first credit line was opened.\n",
    "29. CurrentCreditLines - Number of current credit lines at the time the credit profile was pulled.\n",
    "30. OpenCreditLines - Number of open credit lines at the time the credit profile was pulled.\n",
    "31. TotalCreditLinespast7years - Number of credit lines in the past seven years at the time the credit profile was pulled.\n",
    "32. OpenRevolvingAccounts - Number of open revolving accounts at the time the credit profile was pulled.\n",
    "33. OpenRevolvingMonthlyPayment - Monthly payment on revolving accounts at the time the credit profile was pulled.\n",
    "34. InquiriesLast6Months - Number of inquiries in the past six months at the time the credit profile was pulled.\n",
    "35. TotalInquiries - Total number of inquiries at the time the credit profile was pulled.\n",
    "36. CurrentDelinquencies - Number of accounts delinquent at the time the credit profile was pulled.\n",
    "37. AmountDelinquent - Dollars delinquent at the time the credit profile was pulled.\n",
    "38. DelinquenciesLast7Years - Number of delinquencies in the past 7 years at the time the credit profile was pulled.\n",
    "39. PublicRecordsLast10Years - Number of public records in the past 10 years at the time the credit profile was pulled.\n",
    "40. PublicRecordsLast12Months - Number of public records in the past 12 months at the time the credit profile was pulled.\n",
    "41. RevolvingCreditBalance - Dollars of revolving credit at the time the credit profile was pulled.\n",
    "42. BankcardUtilization - The percentage of available revolving credit that is utilized at the time the credit profile was pulled.\n",
    "43. AvailableBankcardCredit - The total available credit via bank card at the time the credit profile was pulled.\n",
    "44. TotalTrades - Number of trade lines ever opened at the time the credit profile was pulled.\n",
    "45. TradesNeverDelinquent - Number of trades that have never been delinquent at the time the credit profile was pulled.\n",
    "46. TradesOpenedLast6Months - Number of trades opened in the last 6 months at the time the credit profile was pulled.\n",
    "47. DebtToIncomeRatio - The debt to income ratio of the borrower at the time the credit profile was pulled. This value is Null if the debt to income ratio is not available. This value is capped at 10.01 (any debt to income ratio larger than 1000% will be returned as 1001%).\n",
    "48. IncomeRange - The income range of the borrower at the time the listing was created.\n",
    "49. IncomeVerifiable - The borrower indicated they have the required documentation to support their income.\n",
    "50. StatedMonthlyIncome - The monthly income the borrower stated at the time the listing was created.\n",
    "51. LoanKey - Unique key for each loan. This is the same key that is used in the API. \n",
    "52. TotalProsperLoans - Number of Prosper loans the borrower at the time they created this listing. This value will be null if the borrower had no prior loans. \n",
    "53. TotalProsperPaymentsBilled - Number of on time payments the borrower made on Prosper loans at the time they created this listing. This value will be null if the borrower had no prior loans.\n",
    "54. OnTimeProsperPayments - Number of on time payments the borrower had made on Prosper loans at the time they created this listing. This value will be null if the borrower has no prior loans.\n",
    "55. ProsperPaymentsLessThanOneMonthLate - Number of payments the borrower made on Prosper loans that were less than one month late at the time they created this listing. This value will be null if the borrower had no prior loans. \n",
    "56. ProsperPaymentsOneMonthPlusLate\t- Number of payments the borrower made on Prosper loans that were greater than one month late at the time they created this listing. This value will be null if the borrower had no prior loans.\n",
    "57. ProsperPrincipalBorrowed - Total principal borrowed on Prosper loans at the time the listing was created. This value will be null if the borrower had no prior loans.\n",
    "58. ProsperPrincipalOutstanding - Principal outstanding on Prosper loans at the time the listing was created. This value will be null if the borrower had no prior loans.\n",
    "59. ScorexChangeAtTimeOfListing - Borrower's credit score change at the time the credit profile was pulled. This will be the change relative to the borrower's last Prosper loan. This value will be null if the borrower had no prior loans.\n",
    "60. LoanCurrentDaysDelinquent - The number of days delinquent. \n",
    "61. LoanFirstDefaultedCycleNumber - The cycle the loan was charged off. If the loan has not charged off the value will be null. \n",
    "62. LoanMonthsSinceOrigination - Number of months since the loan originated.\n",
    "63. LoanNumber - Unique numeric value associated with the loan.\n",
    "64. LoanOriginalAmount - The origination amount of the loan.\n",
    "65. LoanOriginationDate - The date the loan was originated.\n",
    "66. LoanOriginationQuarter - The quarter in which the loan was originated.\n",
    "67. MemberKey - The unique key that is associated with the borrower. This is the same identifier that is used in the API member object. \n",
    "68. MonthlyLoanPayment - The scheduled monthly loan payment.\n",
    "69. LP_CustomerPayments - Pre charge-off cumulative gross payments made by the borrower on the loan. If the loan has charged off, this value will exclude any recoveries.\n",
    "70. LP_CustomerPrincipalPayments - Pre charge-off cumulative principal payments made by the borrower on the loan. If the loan has charged off, this value will exclude any recoveries.\n",
    "71. LP_InterestandFees - Pre charge-off cumulative interest and fees paid by the borrower. If the loan has charged off, this value will exclude any recoveries.\n",
    "72. LP_ServiceFees - Cumulative service fees paid by the investors who have invested in the loan. \n",
    "73. LP_CollectionFees - Cumulative collection fees paid by the investors who have invested in the loan.\n",
    "74. LP_GrossPrincipalLoss - The gross charged off amount of the loan.\n",
    "75. LP_NetPrincipalLoss - The principal that remains uncollected after any recoveries.\n",
    "76. LP_NonPrincipalRecoverypayments - The interest and fee component of any recovery payments. The current payment policy applies payments in the following order: Fees, interest, principal.\n",
    "77. PercentFunded - Percent the listing was funded.\n",
    "78. Recommendations - Number of recommendations the borrower had at the time the listing was created.\n",
    "79. InvestmentFromFriendsCount - Number of friends that made an investment in the loan.\n",
    "80. InvestmentFromFriendsAmount - Dollar amount of investments that were made by friends.\n",
    "81. Investors - The number of investors that funded the loan.\n",
    "\n",
    "NOTE \n",
    " - The variables above is a combination of numerical and categorical variable\n",
    " - Not all the variables described above will be used for the project.\n",
    " - \n",
    "\n",
    "\n",
    "## Preliminary Wrangling"
   ]
  },
  {
   "cell_type": "code",
   "execution_count": 13,
   "metadata": {},
   "outputs": [],
   "source": [
    "# import all packages and set plots to be embedded inline\n",
    "import numpy as np\n",
    "import pandas as pd\n",
    "import matplotlib.pyplot as plt\n",
    "import seaborn as sb\n",
    "\n",
    "%matplotlib inline"
   ]
  },
  {
   "cell_type": "code",
   "execution_count": 14,
   "metadata": {},
   "outputs": [],
   "source": [
    "# Setting the display option to ensure the entire column on the dataframe can be viewed\n",
    "\n",
    "pd.set_option('display.max_columns', None)"
   ]
  },
  {
   "cell_type": "code",
   "execution_count": 15,
   "metadata": {
    "scrolled": true
   },
   "outputs": [
    {
     "data": {
      "text/html": [
       "<div>\n",
       "<style scoped>\n",
       "    .dataframe tbody tr th:only-of-type {\n",
       "        vertical-align: middle;\n",
       "    }\n",
       "\n",
       "    .dataframe tbody tr th {\n",
       "        vertical-align: top;\n",
       "    }\n",
       "\n",
       "    .dataframe thead th {\n",
       "        text-align: right;\n",
       "    }\n",
       "</style>\n",
       "<table border=\"1\" class=\"dataframe\">\n",
       "  <thead>\n",
       "    <tr style=\"text-align: right;\">\n",
       "      <th></th>\n",
       "      <th>ListingKey</th>\n",
       "      <th>ListingNumber</th>\n",
       "      <th>ListingCreationDate</th>\n",
       "      <th>CreditGrade</th>\n",
       "      <th>Term</th>\n",
       "      <th>LoanStatus</th>\n",
       "      <th>ClosedDate</th>\n",
       "      <th>BorrowerAPR</th>\n",
       "      <th>BorrowerRate</th>\n",
       "      <th>LenderYield</th>\n",
       "      <th>EstimatedEffectiveYield</th>\n",
       "      <th>EstimatedLoss</th>\n",
       "      <th>EstimatedReturn</th>\n",
       "      <th>ProsperRating (numeric)</th>\n",
       "      <th>ProsperRating (Alpha)</th>\n",
       "      <th>ProsperScore</th>\n",
       "      <th>ListingCategory (numeric)</th>\n",
       "      <th>BorrowerState</th>\n",
       "      <th>Occupation</th>\n",
       "      <th>EmploymentStatus</th>\n",
       "      <th>EmploymentStatusDuration</th>\n",
       "      <th>IsBorrowerHomeowner</th>\n",
       "      <th>CurrentlyInGroup</th>\n",
       "      <th>GroupKey</th>\n",
       "      <th>DateCreditPulled</th>\n",
       "      <th>CreditScoreRangeLower</th>\n",
       "      <th>CreditScoreRangeUpper</th>\n",
       "      <th>FirstRecordedCreditLine</th>\n",
       "      <th>CurrentCreditLines</th>\n",
       "      <th>OpenCreditLines</th>\n",
       "      <th>TotalCreditLinespast7years</th>\n",
       "      <th>OpenRevolvingAccounts</th>\n",
       "      <th>OpenRevolvingMonthlyPayment</th>\n",
       "      <th>InquiriesLast6Months</th>\n",
       "      <th>TotalInquiries</th>\n",
       "      <th>CurrentDelinquencies</th>\n",
       "      <th>AmountDelinquent</th>\n",
       "      <th>DelinquenciesLast7Years</th>\n",
       "      <th>PublicRecordsLast10Years</th>\n",
       "      <th>PublicRecordsLast12Months</th>\n",
       "      <th>RevolvingCreditBalance</th>\n",
       "      <th>BankcardUtilization</th>\n",
       "      <th>AvailableBankcardCredit</th>\n",
       "      <th>TotalTrades</th>\n",
       "      <th>TradesNeverDelinquent (percentage)</th>\n",
       "      <th>TradesOpenedLast6Months</th>\n",
       "      <th>DebtToIncomeRatio</th>\n",
       "      <th>IncomeRange</th>\n",
       "      <th>IncomeVerifiable</th>\n",
       "      <th>StatedMonthlyIncome</th>\n",
       "      <th>LoanKey</th>\n",
       "      <th>TotalProsperLoans</th>\n",
       "      <th>TotalProsperPaymentsBilled</th>\n",
       "      <th>OnTimeProsperPayments</th>\n",
       "      <th>ProsperPaymentsLessThanOneMonthLate</th>\n",
       "      <th>ProsperPaymentsOneMonthPlusLate</th>\n",
       "      <th>ProsperPrincipalBorrowed</th>\n",
       "      <th>ProsperPrincipalOutstanding</th>\n",
       "      <th>ScorexChangeAtTimeOfListing</th>\n",
       "      <th>LoanCurrentDaysDelinquent</th>\n",
       "      <th>LoanFirstDefaultedCycleNumber</th>\n",
       "      <th>LoanMonthsSinceOrigination</th>\n",
       "      <th>LoanNumber</th>\n",
       "      <th>LoanOriginalAmount</th>\n",
       "      <th>LoanOriginationDate</th>\n",
       "      <th>LoanOriginationQuarter</th>\n",
       "      <th>MemberKey</th>\n",
       "      <th>MonthlyLoanPayment</th>\n",
       "      <th>LP_CustomerPayments</th>\n",
       "      <th>LP_CustomerPrincipalPayments</th>\n",
       "      <th>LP_InterestandFees</th>\n",
       "      <th>LP_ServiceFees</th>\n",
       "      <th>LP_CollectionFees</th>\n",
       "      <th>LP_GrossPrincipalLoss</th>\n",
       "      <th>LP_NetPrincipalLoss</th>\n",
       "      <th>LP_NonPrincipalRecoverypayments</th>\n",
       "      <th>PercentFunded</th>\n",
       "      <th>Recommendations</th>\n",
       "      <th>InvestmentFromFriendsCount</th>\n",
       "      <th>InvestmentFromFriendsAmount</th>\n",
       "      <th>Investors</th>\n",
       "    </tr>\n",
       "  </thead>\n",
       "  <tbody>\n",
       "    <tr>\n",
       "      <th>0</th>\n",
       "      <td>1021339766868145413AB3B</td>\n",
       "      <td>193129</td>\n",
       "      <td>2007-08-26 19:09:29.263000000</td>\n",
       "      <td>C</td>\n",
       "      <td>36</td>\n",
       "      <td>Completed</td>\n",
       "      <td>2009-08-14 00:00:00</td>\n",
       "      <td>0.16516</td>\n",
       "      <td>0.1580</td>\n",
       "      <td>0.1380</td>\n",
       "      <td>NaN</td>\n",
       "      <td>NaN</td>\n",
       "      <td>NaN</td>\n",
       "      <td>NaN</td>\n",
       "      <td>NaN</td>\n",
       "      <td>NaN</td>\n",
       "      <td>0</td>\n",
       "      <td>CO</td>\n",
       "      <td>Other</td>\n",
       "      <td>Self-employed</td>\n",
       "      <td>2.0</td>\n",
       "      <td>True</td>\n",
       "      <td>True</td>\n",
       "      <td>NaN</td>\n",
       "      <td>2007-08-26 18:41:46.780000000</td>\n",
       "      <td>640.0</td>\n",
       "      <td>659.0</td>\n",
       "      <td>2001-10-11 00:00:00</td>\n",
       "      <td>5.0</td>\n",
       "      <td>4.0</td>\n",
       "      <td>12.0</td>\n",
       "      <td>1</td>\n",
       "      <td>24.0</td>\n",
       "      <td>3.0</td>\n",
       "      <td>3.0</td>\n",
       "      <td>2.0</td>\n",
       "      <td>472.0</td>\n",
       "      <td>4.0</td>\n",
       "      <td>0.0</td>\n",
       "      <td>0.0</td>\n",
       "      <td>0.0</td>\n",
       "      <td>0.00</td>\n",
       "      <td>1500.0</td>\n",
       "      <td>11.0</td>\n",
       "      <td>0.81</td>\n",
       "      <td>0.0</td>\n",
       "      <td>0.17</td>\n",
       "      <td>$25,000-49,999</td>\n",
       "      <td>True</td>\n",
       "      <td>3083.333333</td>\n",
       "      <td>E33A3400205839220442E84</td>\n",
       "      <td>NaN</td>\n",
       "      <td>NaN</td>\n",
       "      <td>NaN</td>\n",
       "      <td>NaN</td>\n",
       "      <td>NaN</td>\n",
       "      <td>NaN</td>\n",
       "      <td>NaN</td>\n",
       "      <td>NaN</td>\n",
       "      <td>0</td>\n",
       "      <td>NaN</td>\n",
       "      <td>78</td>\n",
       "      <td>19141</td>\n",
       "      <td>9425</td>\n",
       "      <td>2007-09-12 00:00:00</td>\n",
       "      <td>Q3 2007</td>\n",
       "      <td>1F3E3376408759268057EDA</td>\n",
       "      <td>330.43</td>\n",
       "      <td>11396.14</td>\n",
       "      <td>9425.00</td>\n",
       "      <td>1971.14</td>\n",
       "      <td>-133.18</td>\n",
       "      <td>0.0</td>\n",
       "      <td>0.0</td>\n",
       "      <td>0.0</td>\n",
       "      <td>0.0</td>\n",
       "      <td>1.0</td>\n",
       "      <td>0</td>\n",
       "      <td>0</td>\n",
       "      <td>0.0</td>\n",
       "      <td>258</td>\n",
       "    </tr>\n",
       "    <tr>\n",
       "      <th>1</th>\n",
       "      <td>10273602499503308B223C1</td>\n",
       "      <td>1209647</td>\n",
       "      <td>2014-02-27 08:28:07.900000000</td>\n",
       "      <td>NaN</td>\n",
       "      <td>36</td>\n",
       "      <td>Current</td>\n",
       "      <td>NaN</td>\n",
       "      <td>0.12016</td>\n",
       "      <td>0.0920</td>\n",
       "      <td>0.0820</td>\n",
       "      <td>0.07960</td>\n",
       "      <td>0.0249</td>\n",
       "      <td>0.05470</td>\n",
       "      <td>6.0</td>\n",
       "      <td>A</td>\n",
       "      <td>7.0</td>\n",
       "      <td>2</td>\n",
       "      <td>CO</td>\n",
       "      <td>Professional</td>\n",
       "      <td>Employed</td>\n",
       "      <td>44.0</td>\n",
       "      <td>False</td>\n",
       "      <td>False</td>\n",
       "      <td>NaN</td>\n",
       "      <td>2014-02-27 08:28:14</td>\n",
       "      <td>680.0</td>\n",
       "      <td>699.0</td>\n",
       "      <td>1996-03-18 00:00:00</td>\n",
       "      <td>14.0</td>\n",
       "      <td>14.0</td>\n",
       "      <td>29.0</td>\n",
       "      <td>13</td>\n",
       "      <td>389.0</td>\n",
       "      <td>3.0</td>\n",
       "      <td>5.0</td>\n",
       "      <td>0.0</td>\n",
       "      <td>0.0</td>\n",
       "      <td>0.0</td>\n",
       "      <td>1.0</td>\n",
       "      <td>0.0</td>\n",
       "      <td>3989.0</td>\n",
       "      <td>0.21</td>\n",
       "      <td>10266.0</td>\n",
       "      <td>29.0</td>\n",
       "      <td>1.00</td>\n",
       "      <td>2.0</td>\n",
       "      <td>0.18</td>\n",
       "      <td>$50,000-74,999</td>\n",
       "      <td>True</td>\n",
       "      <td>6125.000000</td>\n",
       "      <td>9E3B37071505919926B1D82</td>\n",
       "      <td>NaN</td>\n",
       "      <td>NaN</td>\n",
       "      <td>NaN</td>\n",
       "      <td>NaN</td>\n",
       "      <td>NaN</td>\n",
       "      <td>NaN</td>\n",
       "      <td>NaN</td>\n",
       "      <td>NaN</td>\n",
       "      <td>0</td>\n",
       "      <td>NaN</td>\n",
       "      <td>0</td>\n",
       "      <td>134815</td>\n",
       "      <td>10000</td>\n",
       "      <td>2014-03-03 00:00:00</td>\n",
       "      <td>Q1 2014</td>\n",
       "      <td>1D13370546739025387B2F4</td>\n",
       "      <td>318.93</td>\n",
       "      <td>0.00</td>\n",
       "      <td>0.00</td>\n",
       "      <td>0.00</td>\n",
       "      <td>0.00</td>\n",
       "      <td>0.0</td>\n",
       "      <td>0.0</td>\n",
       "      <td>0.0</td>\n",
       "      <td>0.0</td>\n",
       "      <td>1.0</td>\n",
       "      <td>0</td>\n",
       "      <td>0</td>\n",
       "      <td>0.0</td>\n",
       "      <td>1</td>\n",
       "    </tr>\n",
       "    <tr>\n",
       "      <th>2</th>\n",
       "      <td>0EE9337825851032864889A</td>\n",
       "      <td>81716</td>\n",
       "      <td>2007-01-05 15:00:47.090000000</td>\n",
       "      <td>HR</td>\n",
       "      <td>36</td>\n",
       "      <td>Completed</td>\n",
       "      <td>2009-12-17 00:00:00</td>\n",
       "      <td>0.28269</td>\n",
       "      <td>0.2750</td>\n",
       "      <td>0.2400</td>\n",
       "      <td>NaN</td>\n",
       "      <td>NaN</td>\n",
       "      <td>NaN</td>\n",
       "      <td>NaN</td>\n",
       "      <td>NaN</td>\n",
       "      <td>NaN</td>\n",
       "      <td>0</td>\n",
       "      <td>GA</td>\n",
       "      <td>Other</td>\n",
       "      <td>Not available</td>\n",
       "      <td>NaN</td>\n",
       "      <td>False</td>\n",
       "      <td>True</td>\n",
       "      <td>783C3371218786870A73D20</td>\n",
       "      <td>2007-01-02 14:09:10.060000000</td>\n",
       "      <td>480.0</td>\n",
       "      <td>499.0</td>\n",
       "      <td>2002-07-27 00:00:00</td>\n",
       "      <td>NaN</td>\n",
       "      <td>NaN</td>\n",
       "      <td>3.0</td>\n",
       "      <td>0</td>\n",
       "      <td>0.0</td>\n",
       "      <td>0.0</td>\n",
       "      <td>1.0</td>\n",
       "      <td>1.0</td>\n",
       "      <td>NaN</td>\n",
       "      <td>0.0</td>\n",
       "      <td>0.0</td>\n",
       "      <td>NaN</td>\n",
       "      <td>NaN</td>\n",
       "      <td>NaN</td>\n",
       "      <td>NaN</td>\n",
       "      <td>NaN</td>\n",
       "      <td>NaN</td>\n",
       "      <td>NaN</td>\n",
       "      <td>0.06</td>\n",
       "      <td>Not displayed</td>\n",
       "      <td>True</td>\n",
       "      <td>2083.333333</td>\n",
       "      <td>6954337960046817851BCB2</td>\n",
       "      <td>NaN</td>\n",
       "      <td>NaN</td>\n",
       "      <td>NaN</td>\n",
       "      <td>NaN</td>\n",
       "      <td>NaN</td>\n",
       "      <td>NaN</td>\n",
       "      <td>NaN</td>\n",
       "      <td>NaN</td>\n",
       "      <td>0</td>\n",
       "      <td>NaN</td>\n",
       "      <td>86</td>\n",
       "      <td>6466</td>\n",
       "      <td>3001</td>\n",
       "      <td>2007-01-17 00:00:00</td>\n",
       "      <td>Q1 2007</td>\n",
       "      <td>5F7033715035555618FA612</td>\n",
       "      <td>123.32</td>\n",
       "      <td>4186.63</td>\n",
       "      <td>3001.00</td>\n",
       "      <td>1185.63</td>\n",
       "      <td>-24.20</td>\n",
       "      <td>0.0</td>\n",
       "      <td>0.0</td>\n",
       "      <td>0.0</td>\n",
       "      <td>0.0</td>\n",
       "      <td>1.0</td>\n",
       "      <td>0</td>\n",
       "      <td>0</td>\n",
       "      <td>0.0</td>\n",
       "      <td>41</td>\n",
       "    </tr>\n",
       "    <tr>\n",
       "      <th>3</th>\n",
       "      <td>0EF5356002482715299901A</td>\n",
       "      <td>658116</td>\n",
       "      <td>2012-10-22 11:02:35.010000000</td>\n",
       "      <td>NaN</td>\n",
       "      <td>36</td>\n",
       "      <td>Current</td>\n",
       "      <td>NaN</td>\n",
       "      <td>0.12528</td>\n",
       "      <td>0.0974</td>\n",
       "      <td>0.0874</td>\n",
       "      <td>0.08490</td>\n",
       "      <td>0.0249</td>\n",
       "      <td>0.06000</td>\n",
       "      <td>6.0</td>\n",
       "      <td>A</td>\n",
       "      <td>9.0</td>\n",
       "      <td>16</td>\n",
       "      <td>GA</td>\n",
       "      <td>Skilled Labor</td>\n",
       "      <td>Employed</td>\n",
       "      <td>113.0</td>\n",
       "      <td>True</td>\n",
       "      <td>False</td>\n",
       "      <td>NaN</td>\n",
       "      <td>2012-10-22 11:02:32</td>\n",
       "      <td>800.0</td>\n",
       "      <td>819.0</td>\n",
       "      <td>1983-02-28 00:00:00</td>\n",
       "      <td>5.0</td>\n",
       "      <td>5.0</td>\n",
       "      <td>29.0</td>\n",
       "      <td>7</td>\n",
       "      <td>115.0</td>\n",
       "      <td>0.0</td>\n",
       "      <td>1.0</td>\n",
       "      <td>4.0</td>\n",
       "      <td>10056.0</td>\n",
       "      <td>14.0</td>\n",
       "      <td>0.0</td>\n",
       "      <td>0.0</td>\n",
       "      <td>1444.0</td>\n",
       "      <td>0.04</td>\n",
       "      <td>30754.0</td>\n",
       "      <td>26.0</td>\n",
       "      <td>0.76</td>\n",
       "      <td>0.0</td>\n",
       "      <td>0.15</td>\n",
       "      <td>$25,000-49,999</td>\n",
       "      <td>True</td>\n",
       "      <td>2875.000000</td>\n",
       "      <td>A0393664465886295619C51</td>\n",
       "      <td>NaN</td>\n",
       "      <td>NaN</td>\n",
       "      <td>NaN</td>\n",
       "      <td>NaN</td>\n",
       "      <td>NaN</td>\n",
       "      <td>NaN</td>\n",
       "      <td>NaN</td>\n",
       "      <td>NaN</td>\n",
       "      <td>0</td>\n",
       "      <td>NaN</td>\n",
       "      <td>16</td>\n",
       "      <td>77296</td>\n",
       "      <td>10000</td>\n",
       "      <td>2012-11-01 00:00:00</td>\n",
       "      <td>Q4 2012</td>\n",
       "      <td>9ADE356069835475068C6D2</td>\n",
       "      <td>321.45</td>\n",
       "      <td>5143.20</td>\n",
       "      <td>4091.09</td>\n",
       "      <td>1052.11</td>\n",
       "      <td>-108.01</td>\n",
       "      <td>0.0</td>\n",
       "      <td>0.0</td>\n",
       "      <td>0.0</td>\n",
       "      <td>0.0</td>\n",
       "      <td>1.0</td>\n",
       "      <td>0</td>\n",
       "      <td>0</td>\n",
       "      <td>0.0</td>\n",
       "      <td>158</td>\n",
       "    </tr>\n",
       "    <tr>\n",
       "      <th>4</th>\n",
       "      <td>0F023589499656230C5E3E2</td>\n",
       "      <td>909464</td>\n",
       "      <td>2013-09-14 18:38:39.097000000</td>\n",
       "      <td>NaN</td>\n",
       "      <td>36</td>\n",
       "      <td>Current</td>\n",
       "      <td>NaN</td>\n",
       "      <td>0.24614</td>\n",
       "      <td>0.2085</td>\n",
       "      <td>0.1985</td>\n",
       "      <td>0.18316</td>\n",
       "      <td>0.0925</td>\n",
       "      <td>0.09066</td>\n",
       "      <td>3.0</td>\n",
       "      <td>D</td>\n",
       "      <td>4.0</td>\n",
       "      <td>2</td>\n",
       "      <td>MN</td>\n",
       "      <td>Executive</td>\n",
       "      <td>Employed</td>\n",
       "      <td>44.0</td>\n",
       "      <td>True</td>\n",
       "      <td>False</td>\n",
       "      <td>NaN</td>\n",
       "      <td>2013-09-14 18:38:44</td>\n",
       "      <td>680.0</td>\n",
       "      <td>699.0</td>\n",
       "      <td>2004-02-20 00:00:00</td>\n",
       "      <td>19.0</td>\n",
       "      <td>19.0</td>\n",
       "      <td>49.0</td>\n",
       "      <td>6</td>\n",
       "      <td>220.0</td>\n",
       "      <td>1.0</td>\n",
       "      <td>9.0</td>\n",
       "      <td>0.0</td>\n",
       "      <td>0.0</td>\n",
       "      <td>0.0</td>\n",
       "      <td>0.0</td>\n",
       "      <td>0.0</td>\n",
       "      <td>6193.0</td>\n",
       "      <td>0.81</td>\n",
       "      <td>695.0</td>\n",
       "      <td>39.0</td>\n",
       "      <td>0.95</td>\n",
       "      <td>2.0</td>\n",
       "      <td>0.26</td>\n",
       "      <td>$100,000+</td>\n",
       "      <td>True</td>\n",
       "      <td>9583.333333</td>\n",
       "      <td>A180369302188889200689E</td>\n",
       "      <td>1.0</td>\n",
       "      <td>11.0</td>\n",
       "      <td>11.0</td>\n",
       "      <td>0.0</td>\n",
       "      <td>0.0</td>\n",
       "      <td>11000.0</td>\n",
       "      <td>9947.9</td>\n",
       "      <td>NaN</td>\n",
       "      <td>0</td>\n",
       "      <td>NaN</td>\n",
       "      <td>6</td>\n",
       "      <td>102670</td>\n",
       "      <td>15000</td>\n",
       "      <td>2013-09-20 00:00:00</td>\n",
       "      <td>Q3 2013</td>\n",
       "      <td>36CE356043264555721F06C</td>\n",
       "      <td>563.97</td>\n",
       "      <td>2819.85</td>\n",
       "      <td>1563.22</td>\n",
       "      <td>1256.63</td>\n",
       "      <td>-60.27</td>\n",
       "      <td>0.0</td>\n",
       "      <td>0.0</td>\n",
       "      <td>0.0</td>\n",
       "      <td>0.0</td>\n",
       "      <td>1.0</td>\n",
       "      <td>0</td>\n",
       "      <td>0</td>\n",
       "      <td>0.0</td>\n",
       "      <td>20</td>\n",
       "    </tr>\n",
       "    <tr>\n",
       "      <th>5</th>\n",
       "      <td>0F05359734824199381F61D</td>\n",
       "      <td>1074836</td>\n",
       "      <td>2013-12-14 08:26:37.093000000</td>\n",
       "      <td>NaN</td>\n",
       "      <td>60</td>\n",
       "      <td>Current</td>\n",
       "      <td>NaN</td>\n",
       "      <td>0.15425</td>\n",
       "      <td>0.1314</td>\n",
       "      <td>0.1214</td>\n",
       "      <td>0.11567</td>\n",
       "      <td>0.0449</td>\n",
       "      <td>0.07077</td>\n",
       "      <td>5.0</td>\n",
       "      <td>B</td>\n",
       "      <td>10.0</td>\n",
       "      <td>1</td>\n",
       "      <td>NM</td>\n",
       "      <td>Professional</td>\n",
       "      <td>Employed</td>\n",
       "      <td>82.0</td>\n",
       "      <td>True</td>\n",
       "      <td>False</td>\n",
       "      <td>NaN</td>\n",
       "      <td>2013-12-14 08:26:40</td>\n",
       "      <td>740.0</td>\n",
       "      <td>759.0</td>\n",
       "      <td>1973-03-01 00:00:00</td>\n",
       "      <td>21.0</td>\n",
       "      <td>17.0</td>\n",
       "      <td>49.0</td>\n",
       "      <td>13</td>\n",
       "      <td>1410.0</td>\n",
       "      <td>0.0</td>\n",
       "      <td>2.0</td>\n",
       "      <td>0.0</td>\n",
       "      <td>0.0</td>\n",
       "      <td>0.0</td>\n",
       "      <td>0.0</td>\n",
       "      <td>0.0</td>\n",
       "      <td>62999.0</td>\n",
       "      <td>0.39</td>\n",
       "      <td>86509.0</td>\n",
       "      <td>47.0</td>\n",
       "      <td>1.00</td>\n",
       "      <td>0.0</td>\n",
       "      <td>0.36</td>\n",
       "      <td>$100,000+</td>\n",
       "      <td>True</td>\n",
       "      <td>8333.333333</td>\n",
       "      <td>C3D63702273952547E79520</td>\n",
       "      <td>NaN</td>\n",
       "      <td>NaN</td>\n",
       "      <td>NaN</td>\n",
       "      <td>NaN</td>\n",
       "      <td>NaN</td>\n",
       "      <td>NaN</td>\n",
       "      <td>NaN</td>\n",
       "      <td>NaN</td>\n",
       "      <td>0</td>\n",
       "      <td>NaN</td>\n",
       "      <td>3</td>\n",
       "      <td>123257</td>\n",
       "      <td>15000</td>\n",
       "      <td>2013-12-24 00:00:00</td>\n",
       "      <td>Q4 2013</td>\n",
       "      <td>874A3701157341738DE458F</td>\n",
       "      <td>342.37</td>\n",
       "      <td>679.34</td>\n",
       "      <td>351.89</td>\n",
       "      <td>327.45</td>\n",
       "      <td>-25.33</td>\n",
       "      <td>0.0</td>\n",
       "      <td>0.0</td>\n",
       "      <td>0.0</td>\n",
       "      <td>0.0</td>\n",
       "      <td>1.0</td>\n",
       "      <td>0</td>\n",
       "      <td>0</td>\n",
       "      <td>0.0</td>\n",
       "      <td>1</td>\n",
       "    </tr>\n",
       "    <tr>\n",
       "      <th>6</th>\n",
       "      <td>0F0A3576754255009D63151</td>\n",
       "      <td>750899</td>\n",
       "      <td>2013-04-12 09:52:56.147000000</td>\n",
       "      <td>NaN</td>\n",
       "      <td>36</td>\n",
       "      <td>Current</td>\n",
       "      <td>NaN</td>\n",
       "      <td>0.31032</td>\n",
       "      <td>0.2712</td>\n",
       "      <td>0.2612</td>\n",
       "      <td>0.23820</td>\n",
       "      <td>0.1275</td>\n",
       "      <td>0.11070</td>\n",
       "      <td>2.0</td>\n",
       "      <td>E</td>\n",
       "      <td>2.0</td>\n",
       "      <td>1</td>\n",
       "      <td>KS</td>\n",
       "      <td>Sales - Retail</td>\n",
       "      <td>Employed</td>\n",
       "      <td>172.0</td>\n",
       "      <td>False</td>\n",
       "      <td>False</td>\n",
       "      <td>NaN</td>\n",
       "      <td>2013-04-12 09:52:53</td>\n",
       "      <td>680.0</td>\n",
       "      <td>699.0</td>\n",
       "      <td>2000-09-29 00:00:00</td>\n",
       "      <td>10.0</td>\n",
       "      <td>7.0</td>\n",
       "      <td>20.0</td>\n",
       "      <td>6</td>\n",
       "      <td>214.0</td>\n",
       "      <td>0.0</td>\n",
       "      <td>0.0</td>\n",
       "      <td>0.0</td>\n",
       "      <td>0.0</td>\n",
       "      <td>0.0</td>\n",
       "      <td>0.0</td>\n",
       "      <td>0.0</td>\n",
       "      <td>5812.0</td>\n",
       "      <td>0.72</td>\n",
       "      <td>1929.0</td>\n",
       "      <td>16.0</td>\n",
       "      <td>0.68</td>\n",
       "      <td>0.0</td>\n",
       "      <td>0.27</td>\n",
       "      <td>$25,000-49,999</td>\n",
       "      <td>True</td>\n",
       "      <td>2083.333333</td>\n",
       "      <td>CE963680102927767790520</td>\n",
       "      <td>NaN</td>\n",
       "      <td>NaN</td>\n",
       "      <td>NaN</td>\n",
       "      <td>NaN</td>\n",
       "      <td>NaN</td>\n",
       "      <td>NaN</td>\n",
       "      <td>NaN</td>\n",
       "      <td>NaN</td>\n",
       "      <td>0</td>\n",
       "      <td>NaN</td>\n",
       "      <td>11</td>\n",
       "      <td>88353</td>\n",
       "      <td>3000</td>\n",
       "      <td>2013-04-18 00:00:00</td>\n",
       "      <td>Q2 2013</td>\n",
       "      <td>AA4535764146102879D5959</td>\n",
       "      <td>122.67</td>\n",
       "      <td>1226.70</td>\n",
       "      <td>604.25</td>\n",
       "      <td>622.45</td>\n",
       "      <td>-22.95</td>\n",
       "      <td>0.0</td>\n",
       "      <td>0.0</td>\n",
       "      <td>0.0</td>\n",
       "      <td>0.0</td>\n",
       "      <td>1.0</td>\n",
       "      <td>0</td>\n",
       "      <td>0</td>\n",
       "      <td>0.0</td>\n",
       "      <td>1</td>\n",
       "    </tr>\n",
       "    <tr>\n",
       "      <th>7</th>\n",
       "      <td>0F1035772717087366F9EA7</td>\n",
       "      <td>768193</td>\n",
       "      <td>2013-05-05 06:49:27.493000000</td>\n",
       "      <td>NaN</td>\n",
       "      <td>36</td>\n",
       "      <td>Current</td>\n",
       "      <td>NaN</td>\n",
       "      <td>0.23939</td>\n",
       "      <td>0.2019</td>\n",
       "      <td>0.1919</td>\n",
       "      <td>0.17830</td>\n",
       "      <td>0.0799</td>\n",
       "      <td>0.09840</td>\n",
       "      <td>4.0</td>\n",
       "      <td>C</td>\n",
       "      <td>4.0</td>\n",
       "      <td>2</td>\n",
       "      <td>CA</td>\n",
       "      <td>Laborer</td>\n",
       "      <td>Employed</td>\n",
       "      <td>103.0</td>\n",
       "      <td>False</td>\n",
       "      <td>False</td>\n",
       "      <td>NaN</td>\n",
       "      <td>2013-05-05 06:49:25</td>\n",
       "      <td>700.0</td>\n",
       "      <td>719.0</td>\n",
       "      <td>1999-02-25 00:00:00</td>\n",
       "      <td>6.0</td>\n",
       "      <td>6.0</td>\n",
       "      <td>10.0</td>\n",
       "      <td>5</td>\n",
       "      <td>101.0</td>\n",
       "      <td>3.0</td>\n",
       "      <td>16.0</td>\n",
       "      <td>0.0</td>\n",
       "      <td>0.0</td>\n",
       "      <td>0.0</td>\n",
       "      <td>1.0</td>\n",
       "      <td>0.0</td>\n",
       "      <td>1260.0</td>\n",
       "      <td>0.13</td>\n",
       "      <td>2181.0</td>\n",
       "      <td>10.0</td>\n",
       "      <td>0.80</td>\n",
       "      <td>0.0</td>\n",
       "      <td>0.24</td>\n",
       "      <td>$25,000-49,999</td>\n",
       "      <td>True</td>\n",
       "      <td>3355.750000</td>\n",
       "      <td>0C87368108902149313D53B</td>\n",
       "      <td>NaN</td>\n",
       "      <td>NaN</td>\n",
       "      <td>NaN</td>\n",
       "      <td>NaN</td>\n",
       "      <td>NaN</td>\n",
       "      <td>NaN</td>\n",
       "      <td>NaN</td>\n",
       "      <td>NaN</td>\n",
       "      <td>0</td>\n",
       "      <td>NaN</td>\n",
       "      <td>10</td>\n",
       "      <td>90051</td>\n",
       "      <td>10000</td>\n",
       "      <td>2013-05-13 00:00:00</td>\n",
       "      <td>Q2 2013</td>\n",
       "      <td>737F347089545035681C074</td>\n",
       "      <td>372.60</td>\n",
       "      <td>3353.40</td>\n",
       "      <td>1955.89</td>\n",
       "      <td>1397.51</td>\n",
       "      <td>-69.21</td>\n",
       "      <td>0.0</td>\n",
       "      <td>0.0</td>\n",
       "      <td>0.0</td>\n",
       "      <td>0.0</td>\n",
       "      <td>1.0</td>\n",
       "      <td>0</td>\n",
       "      <td>0</td>\n",
       "      <td>0.0</td>\n",
       "      <td>1</td>\n",
       "    </tr>\n",
       "    <tr>\n",
       "      <th>8</th>\n",
       "      <td>0F043596202561788EA13D5</td>\n",
       "      <td>1023355</td>\n",
       "      <td>2013-12-02 10:43:39.117000000</td>\n",
       "      <td>NaN</td>\n",
       "      <td>36</td>\n",
       "      <td>Current</td>\n",
       "      <td>NaN</td>\n",
       "      <td>0.07620</td>\n",
       "      <td>0.0629</td>\n",
       "      <td>0.0529</td>\n",
       "      <td>0.05221</td>\n",
       "      <td>0.0099</td>\n",
       "      <td>0.04231</td>\n",
       "      <td>7.0</td>\n",
       "      <td>AA</td>\n",
       "      <td>9.0</td>\n",
       "      <td>7</td>\n",
       "      <td>IL</td>\n",
       "      <td>Food Service</td>\n",
       "      <td>Employed</td>\n",
       "      <td>269.0</td>\n",
       "      <td>True</td>\n",
       "      <td>False</td>\n",
       "      <td>NaN</td>\n",
       "      <td>2013-12-02 10:43:39</td>\n",
       "      <td>820.0</td>\n",
       "      <td>839.0</td>\n",
       "      <td>1993-04-01 00:00:00</td>\n",
       "      <td>17.0</td>\n",
       "      <td>16.0</td>\n",
       "      <td>32.0</td>\n",
       "      <td>12</td>\n",
       "      <td>219.0</td>\n",
       "      <td>1.0</td>\n",
       "      <td>6.0</td>\n",
       "      <td>0.0</td>\n",
       "      <td>0.0</td>\n",
       "      <td>0.0</td>\n",
       "      <td>0.0</td>\n",
       "      <td>0.0</td>\n",
       "      <td>9906.0</td>\n",
       "      <td>0.11</td>\n",
       "      <td>77696.0</td>\n",
       "      <td>29.0</td>\n",
       "      <td>1.00</td>\n",
       "      <td>1.0</td>\n",
       "      <td>0.25</td>\n",
       "      <td>$25,000-49,999</td>\n",
       "      <td>True</td>\n",
       "      <td>3333.333333</td>\n",
       "      <td>02163700809231365A56A1C</td>\n",
       "      <td>NaN</td>\n",
       "      <td>NaN</td>\n",
       "      <td>NaN</td>\n",
       "      <td>NaN</td>\n",
       "      <td>NaN</td>\n",
       "      <td>NaN</td>\n",
       "      <td>NaN</td>\n",
       "      <td>NaN</td>\n",
       "      <td>0</td>\n",
       "      <td>NaN</td>\n",
       "      <td>3</td>\n",
       "      <td>121268</td>\n",
       "      <td>10000</td>\n",
       "      <td>2013-12-12 00:00:00</td>\n",
       "      <td>Q4 2013</td>\n",
       "      <td>49A53699682291323D04D66</td>\n",
       "      <td>305.54</td>\n",
       "      <td>611.08</td>\n",
       "      <td>505.58</td>\n",
       "      <td>105.50</td>\n",
       "      <td>-16.77</td>\n",
       "      <td>0.0</td>\n",
       "      <td>0.0</td>\n",
       "      <td>0.0</td>\n",
       "      <td>0.0</td>\n",
       "      <td>1.0</td>\n",
       "      <td>0</td>\n",
       "      <td>0</td>\n",
       "      <td>0.0</td>\n",
       "      <td>1</td>\n",
       "    </tr>\n",
       "    <tr>\n",
       "      <th>9</th>\n",
       "      <td>0F043596202561788EA13D5</td>\n",
       "      <td>1023355</td>\n",
       "      <td>2013-12-02 10:43:39.117000000</td>\n",
       "      <td>NaN</td>\n",
       "      <td>36</td>\n",
       "      <td>Current</td>\n",
       "      <td>NaN</td>\n",
       "      <td>0.07620</td>\n",
       "      <td>0.0629</td>\n",
       "      <td>0.0529</td>\n",
       "      <td>0.05221</td>\n",
       "      <td>0.0099</td>\n",
       "      <td>0.04231</td>\n",
       "      <td>7.0</td>\n",
       "      <td>AA</td>\n",
       "      <td>11.0</td>\n",
       "      <td>7</td>\n",
       "      <td>IL</td>\n",
       "      <td>Food Service</td>\n",
       "      <td>Employed</td>\n",
       "      <td>269.0</td>\n",
       "      <td>True</td>\n",
       "      <td>False</td>\n",
       "      <td>NaN</td>\n",
       "      <td>2013-12-02 10:43:39</td>\n",
       "      <td>820.0</td>\n",
       "      <td>839.0</td>\n",
       "      <td>1993-04-01 00:00:00</td>\n",
       "      <td>17.0</td>\n",
       "      <td>16.0</td>\n",
       "      <td>32.0</td>\n",
       "      <td>12</td>\n",
       "      <td>219.0</td>\n",
       "      <td>1.0</td>\n",
       "      <td>6.0</td>\n",
       "      <td>0.0</td>\n",
       "      <td>0.0</td>\n",
       "      <td>0.0</td>\n",
       "      <td>0.0</td>\n",
       "      <td>0.0</td>\n",
       "      <td>9906.0</td>\n",
       "      <td>0.11</td>\n",
       "      <td>77696.0</td>\n",
       "      <td>29.0</td>\n",
       "      <td>1.00</td>\n",
       "      <td>1.0</td>\n",
       "      <td>0.25</td>\n",
       "      <td>$25,000-49,999</td>\n",
       "      <td>True</td>\n",
       "      <td>3333.333333</td>\n",
       "      <td>02163700809231365A56A1C</td>\n",
       "      <td>NaN</td>\n",
       "      <td>NaN</td>\n",
       "      <td>NaN</td>\n",
       "      <td>NaN</td>\n",
       "      <td>NaN</td>\n",
       "      <td>NaN</td>\n",
       "      <td>NaN</td>\n",
       "      <td>NaN</td>\n",
       "      <td>0</td>\n",
       "      <td>NaN</td>\n",
       "      <td>3</td>\n",
       "      <td>121268</td>\n",
       "      <td>10000</td>\n",
       "      <td>2013-12-12 00:00:00</td>\n",
       "      <td>Q4 2013</td>\n",
       "      <td>49A53699682291323D04D66</td>\n",
       "      <td>305.54</td>\n",
       "      <td>611.08</td>\n",
       "      <td>505.58</td>\n",
       "      <td>105.50</td>\n",
       "      <td>-16.77</td>\n",
       "      <td>0.0</td>\n",
       "      <td>0.0</td>\n",
       "      <td>0.0</td>\n",
       "      <td>0.0</td>\n",
       "      <td>1.0</td>\n",
       "      <td>0</td>\n",
       "      <td>0</td>\n",
       "      <td>0.0</td>\n",
       "      <td>1</td>\n",
       "    </tr>\n",
       "  </tbody>\n",
       "</table>\n",
       "</div>"
      ],
      "text/plain": [
       "                ListingKey  ListingNumber            ListingCreationDate  \\\n",
       "0  1021339766868145413AB3B         193129  2007-08-26 19:09:29.263000000   \n",
       "1  10273602499503308B223C1        1209647  2014-02-27 08:28:07.900000000   \n",
       "2  0EE9337825851032864889A          81716  2007-01-05 15:00:47.090000000   \n",
       "3  0EF5356002482715299901A         658116  2012-10-22 11:02:35.010000000   \n",
       "4  0F023589499656230C5E3E2         909464  2013-09-14 18:38:39.097000000   \n",
       "5  0F05359734824199381F61D        1074836  2013-12-14 08:26:37.093000000   \n",
       "6  0F0A3576754255009D63151         750899  2013-04-12 09:52:56.147000000   \n",
       "7  0F1035772717087366F9EA7         768193  2013-05-05 06:49:27.493000000   \n",
       "8  0F043596202561788EA13D5        1023355  2013-12-02 10:43:39.117000000   \n",
       "9  0F043596202561788EA13D5        1023355  2013-12-02 10:43:39.117000000   \n",
       "\n",
       "  CreditGrade  Term LoanStatus           ClosedDate  BorrowerAPR  \\\n",
       "0           C    36  Completed  2009-08-14 00:00:00      0.16516   \n",
       "1         NaN    36    Current                  NaN      0.12016   \n",
       "2          HR    36  Completed  2009-12-17 00:00:00      0.28269   \n",
       "3         NaN    36    Current                  NaN      0.12528   \n",
       "4         NaN    36    Current                  NaN      0.24614   \n",
       "5         NaN    60    Current                  NaN      0.15425   \n",
       "6         NaN    36    Current                  NaN      0.31032   \n",
       "7         NaN    36    Current                  NaN      0.23939   \n",
       "8         NaN    36    Current                  NaN      0.07620   \n",
       "9         NaN    36    Current                  NaN      0.07620   \n",
       "\n",
       "   BorrowerRate  LenderYield  EstimatedEffectiveYield  EstimatedLoss  \\\n",
       "0        0.1580       0.1380                      NaN            NaN   \n",
       "1        0.0920       0.0820                  0.07960         0.0249   \n",
       "2        0.2750       0.2400                      NaN            NaN   \n",
       "3        0.0974       0.0874                  0.08490         0.0249   \n",
       "4        0.2085       0.1985                  0.18316         0.0925   \n",
       "5        0.1314       0.1214                  0.11567         0.0449   \n",
       "6        0.2712       0.2612                  0.23820         0.1275   \n",
       "7        0.2019       0.1919                  0.17830         0.0799   \n",
       "8        0.0629       0.0529                  0.05221         0.0099   \n",
       "9        0.0629       0.0529                  0.05221         0.0099   \n",
       "\n",
       "   EstimatedReturn  ProsperRating (numeric) ProsperRating (Alpha)  \\\n",
       "0              NaN                      NaN                   NaN   \n",
       "1          0.05470                      6.0                     A   \n",
       "2              NaN                      NaN                   NaN   \n",
       "3          0.06000                      6.0                     A   \n",
       "4          0.09066                      3.0                     D   \n",
       "5          0.07077                      5.0                     B   \n",
       "6          0.11070                      2.0                     E   \n",
       "7          0.09840                      4.0                     C   \n",
       "8          0.04231                      7.0                    AA   \n",
       "9          0.04231                      7.0                    AA   \n",
       "\n",
       "   ProsperScore  ListingCategory (numeric) BorrowerState      Occupation  \\\n",
       "0           NaN                          0            CO           Other   \n",
       "1           7.0                          2            CO    Professional   \n",
       "2           NaN                          0            GA           Other   \n",
       "3           9.0                         16            GA   Skilled Labor   \n",
       "4           4.0                          2            MN       Executive   \n",
       "5          10.0                          1            NM    Professional   \n",
       "6           2.0                          1            KS  Sales - Retail   \n",
       "7           4.0                          2            CA         Laborer   \n",
       "8           9.0                          7            IL    Food Service   \n",
       "9          11.0                          7            IL    Food Service   \n",
       "\n",
       "  EmploymentStatus  EmploymentStatusDuration  IsBorrowerHomeowner  \\\n",
       "0    Self-employed                       2.0                 True   \n",
       "1         Employed                      44.0                False   \n",
       "2    Not available                       NaN                False   \n",
       "3         Employed                     113.0                 True   \n",
       "4         Employed                      44.0                 True   \n",
       "5         Employed                      82.0                 True   \n",
       "6         Employed                     172.0                False   \n",
       "7         Employed                     103.0                False   \n",
       "8         Employed                     269.0                 True   \n",
       "9         Employed                     269.0                 True   \n",
       "\n",
       "   CurrentlyInGroup                 GroupKey               DateCreditPulled  \\\n",
       "0              True                      NaN  2007-08-26 18:41:46.780000000   \n",
       "1             False                      NaN            2014-02-27 08:28:14   \n",
       "2              True  783C3371218786870A73D20  2007-01-02 14:09:10.060000000   \n",
       "3             False                      NaN            2012-10-22 11:02:32   \n",
       "4             False                      NaN            2013-09-14 18:38:44   \n",
       "5             False                      NaN            2013-12-14 08:26:40   \n",
       "6             False                      NaN            2013-04-12 09:52:53   \n",
       "7             False                      NaN            2013-05-05 06:49:25   \n",
       "8             False                      NaN            2013-12-02 10:43:39   \n",
       "9             False                      NaN            2013-12-02 10:43:39   \n",
       "\n",
       "   CreditScoreRangeLower  CreditScoreRangeUpper FirstRecordedCreditLine  \\\n",
       "0                  640.0                  659.0     2001-10-11 00:00:00   \n",
       "1                  680.0                  699.0     1996-03-18 00:00:00   \n",
       "2                  480.0                  499.0     2002-07-27 00:00:00   \n",
       "3                  800.0                  819.0     1983-02-28 00:00:00   \n",
       "4                  680.0                  699.0     2004-02-20 00:00:00   \n",
       "5                  740.0                  759.0     1973-03-01 00:00:00   \n",
       "6                  680.0                  699.0     2000-09-29 00:00:00   \n",
       "7                  700.0                  719.0     1999-02-25 00:00:00   \n",
       "8                  820.0                  839.0     1993-04-01 00:00:00   \n",
       "9                  820.0                  839.0     1993-04-01 00:00:00   \n",
       "\n",
       "   CurrentCreditLines  OpenCreditLines  TotalCreditLinespast7years  \\\n",
       "0                 5.0              4.0                        12.0   \n",
       "1                14.0             14.0                        29.0   \n",
       "2                 NaN              NaN                         3.0   \n",
       "3                 5.0              5.0                        29.0   \n",
       "4                19.0             19.0                        49.0   \n",
       "5                21.0             17.0                        49.0   \n",
       "6                10.0              7.0                        20.0   \n",
       "7                 6.0              6.0                        10.0   \n",
       "8                17.0             16.0                        32.0   \n",
       "9                17.0             16.0                        32.0   \n",
       "\n",
       "   OpenRevolvingAccounts  OpenRevolvingMonthlyPayment  InquiriesLast6Months  \\\n",
       "0                      1                         24.0                   3.0   \n",
       "1                     13                        389.0                   3.0   \n",
       "2                      0                          0.0                   0.0   \n",
       "3                      7                        115.0                   0.0   \n",
       "4                      6                        220.0                   1.0   \n",
       "5                     13                       1410.0                   0.0   \n",
       "6                      6                        214.0                   0.0   \n",
       "7                      5                        101.0                   3.0   \n",
       "8                     12                        219.0                   1.0   \n",
       "9                     12                        219.0                   1.0   \n",
       "\n",
       "   TotalInquiries  CurrentDelinquencies  AmountDelinquent  \\\n",
       "0             3.0                   2.0             472.0   \n",
       "1             5.0                   0.0               0.0   \n",
       "2             1.0                   1.0               NaN   \n",
       "3             1.0                   4.0           10056.0   \n",
       "4             9.0                   0.0               0.0   \n",
       "5             2.0                   0.0               0.0   \n",
       "6             0.0                   0.0               0.0   \n",
       "7            16.0                   0.0               0.0   \n",
       "8             6.0                   0.0               0.0   \n",
       "9             6.0                   0.0               0.0   \n",
       "\n",
       "   DelinquenciesLast7Years  PublicRecordsLast10Years  \\\n",
       "0                      4.0                       0.0   \n",
       "1                      0.0                       1.0   \n",
       "2                      0.0                       0.0   \n",
       "3                     14.0                       0.0   \n",
       "4                      0.0                       0.0   \n",
       "5                      0.0                       0.0   \n",
       "6                      0.0                       0.0   \n",
       "7                      0.0                       1.0   \n",
       "8                      0.0                       0.0   \n",
       "9                      0.0                       0.0   \n",
       "\n",
       "   PublicRecordsLast12Months  RevolvingCreditBalance  BankcardUtilization  \\\n",
       "0                        0.0                     0.0                 0.00   \n",
       "1                        0.0                  3989.0                 0.21   \n",
       "2                        NaN                     NaN                  NaN   \n",
       "3                        0.0                  1444.0                 0.04   \n",
       "4                        0.0                  6193.0                 0.81   \n",
       "5                        0.0                 62999.0                 0.39   \n",
       "6                        0.0                  5812.0                 0.72   \n",
       "7                        0.0                  1260.0                 0.13   \n",
       "8                        0.0                  9906.0                 0.11   \n",
       "9                        0.0                  9906.0                 0.11   \n",
       "\n",
       "   AvailableBankcardCredit  TotalTrades  TradesNeverDelinquent (percentage)  \\\n",
       "0                   1500.0         11.0                                0.81   \n",
       "1                  10266.0         29.0                                1.00   \n",
       "2                      NaN          NaN                                 NaN   \n",
       "3                  30754.0         26.0                                0.76   \n",
       "4                    695.0         39.0                                0.95   \n",
       "5                  86509.0         47.0                                1.00   \n",
       "6                   1929.0         16.0                                0.68   \n",
       "7                   2181.0         10.0                                0.80   \n",
       "8                  77696.0         29.0                                1.00   \n",
       "9                  77696.0         29.0                                1.00   \n",
       "\n",
       "   TradesOpenedLast6Months  DebtToIncomeRatio     IncomeRange  \\\n",
       "0                      0.0               0.17  $25,000-49,999   \n",
       "1                      2.0               0.18  $50,000-74,999   \n",
       "2                      NaN               0.06   Not displayed   \n",
       "3                      0.0               0.15  $25,000-49,999   \n",
       "4                      2.0               0.26       $100,000+   \n",
       "5                      0.0               0.36       $100,000+   \n",
       "6                      0.0               0.27  $25,000-49,999   \n",
       "7                      0.0               0.24  $25,000-49,999   \n",
       "8                      1.0               0.25  $25,000-49,999   \n",
       "9                      1.0               0.25  $25,000-49,999   \n",
       "\n",
       "   IncomeVerifiable  StatedMonthlyIncome                  LoanKey  \\\n",
       "0              True          3083.333333  E33A3400205839220442E84   \n",
       "1              True          6125.000000  9E3B37071505919926B1D82   \n",
       "2              True          2083.333333  6954337960046817851BCB2   \n",
       "3              True          2875.000000  A0393664465886295619C51   \n",
       "4              True          9583.333333  A180369302188889200689E   \n",
       "5              True          8333.333333  C3D63702273952547E79520   \n",
       "6              True          2083.333333  CE963680102927767790520   \n",
       "7              True          3355.750000  0C87368108902149313D53B   \n",
       "8              True          3333.333333  02163700809231365A56A1C   \n",
       "9              True          3333.333333  02163700809231365A56A1C   \n",
       "\n",
       "   TotalProsperLoans  TotalProsperPaymentsBilled  OnTimeProsperPayments  \\\n",
       "0                NaN                         NaN                    NaN   \n",
       "1                NaN                         NaN                    NaN   \n",
       "2                NaN                         NaN                    NaN   \n",
       "3                NaN                         NaN                    NaN   \n",
       "4                1.0                        11.0                   11.0   \n",
       "5                NaN                         NaN                    NaN   \n",
       "6                NaN                         NaN                    NaN   \n",
       "7                NaN                         NaN                    NaN   \n",
       "8                NaN                         NaN                    NaN   \n",
       "9                NaN                         NaN                    NaN   \n",
       "\n",
       "   ProsperPaymentsLessThanOneMonthLate  ProsperPaymentsOneMonthPlusLate  \\\n",
       "0                                  NaN                              NaN   \n",
       "1                                  NaN                              NaN   \n",
       "2                                  NaN                              NaN   \n",
       "3                                  NaN                              NaN   \n",
       "4                                  0.0                              0.0   \n",
       "5                                  NaN                              NaN   \n",
       "6                                  NaN                              NaN   \n",
       "7                                  NaN                              NaN   \n",
       "8                                  NaN                              NaN   \n",
       "9                                  NaN                              NaN   \n",
       "\n",
       "   ProsperPrincipalBorrowed  ProsperPrincipalOutstanding  \\\n",
       "0                       NaN                          NaN   \n",
       "1                       NaN                          NaN   \n",
       "2                       NaN                          NaN   \n",
       "3                       NaN                          NaN   \n",
       "4                   11000.0                       9947.9   \n",
       "5                       NaN                          NaN   \n",
       "6                       NaN                          NaN   \n",
       "7                       NaN                          NaN   \n",
       "8                       NaN                          NaN   \n",
       "9                       NaN                          NaN   \n",
       "\n",
       "   ScorexChangeAtTimeOfListing  LoanCurrentDaysDelinquent  \\\n",
       "0                          NaN                          0   \n",
       "1                          NaN                          0   \n",
       "2                          NaN                          0   \n",
       "3                          NaN                          0   \n",
       "4                          NaN                          0   \n",
       "5                          NaN                          0   \n",
       "6                          NaN                          0   \n",
       "7                          NaN                          0   \n",
       "8                          NaN                          0   \n",
       "9                          NaN                          0   \n",
       "\n",
       "   LoanFirstDefaultedCycleNumber  LoanMonthsSinceOrigination  LoanNumber  \\\n",
       "0                            NaN                          78       19141   \n",
       "1                            NaN                           0      134815   \n",
       "2                            NaN                          86        6466   \n",
       "3                            NaN                          16       77296   \n",
       "4                            NaN                           6      102670   \n",
       "5                            NaN                           3      123257   \n",
       "6                            NaN                          11       88353   \n",
       "7                            NaN                          10       90051   \n",
       "8                            NaN                           3      121268   \n",
       "9                            NaN                           3      121268   \n",
       "\n",
       "   LoanOriginalAmount  LoanOriginationDate LoanOriginationQuarter  \\\n",
       "0                9425  2007-09-12 00:00:00                Q3 2007   \n",
       "1               10000  2014-03-03 00:00:00                Q1 2014   \n",
       "2                3001  2007-01-17 00:00:00                Q1 2007   \n",
       "3               10000  2012-11-01 00:00:00                Q4 2012   \n",
       "4               15000  2013-09-20 00:00:00                Q3 2013   \n",
       "5               15000  2013-12-24 00:00:00                Q4 2013   \n",
       "6                3000  2013-04-18 00:00:00                Q2 2013   \n",
       "7               10000  2013-05-13 00:00:00                Q2 2013   \n",
       "8               10000  2013-12-12 00:00:00                Q4 2013   \n",
       "9               10000  2013-12-12 00:00:00                Q4 2013   \n",
       "\n",
       "                 MemberKey  MonthlyLoanPayment  LP_CustomerPayments  \\\n",
       "0  1F3E3376408759268057EDA              330.43             11396.14   \n",
       "1  1D13370546739025387B2F4              318.93                 0.00   \n",
       "2  5F7033715035555618FA612              123.32              4186.63   \n",
       "3  9ADE356069835475068C6D2              321.45              5143.20   \n",
       "4  36CE356043264555721F06C              563.97              2819.85   \n",
       "5  874A3701157341738DE458F              342.37               679.34   \n",
       "6  AA4535764146102879D5959              122.67              1226.70   \n",
       "7  737F347089545035681C074              372.60              3353.40   \n",
       "8  49A53699682291323D04D66              305.54               611.08   \n",
       "9  49A53699682291323D04D66              305.54               611.08   \n",
       "\n",
       "   LP_CustomerPrincipalPayments  LP_InterestandFees  LP_ServiceFees  \\\n",
       "0                       9425.00             1971.14         -133.18   \n",
       "1                          0.00                0.00            0.00   \n",
       "2                       3001.00             1185.63          -24.20   \n",
       "3                       4091.09             1052.11         -108.01   \n",
       "4                       1563.22             1256.63          -60.27   \n",
       "5                        351.89              327.45          -25.33   \n",
       "6                        604.25              622.45          -22.95   \n",
       "7                       1955.89             1397.51          -69.21   \n",
       "8                        505.58              105.50          -16.77   \n",
       "9                        505.58              105.50          -16.77   \n",
       "\n",
       "   LP_CollectionFees  LP_GrossPrincipalLoss  LP_NetPrincipalLoss  \\\n",
       "0                0.0                    0.0                  0.0   \n",
       "1                0.0                    0.0                  0.0   \n",
       "2                0.0                    0.0                  0.0   \n",
       "3                0.0                    0.0                  0.0   \n",
       "4                0.0                    0.0                  0.0   \n",
       "5                0.0                    0.0                  0.0   \n",
       "6                0.0                    0.0                  0.0   \n",
       "7                0.0                    0.0                  0.0   \n",
       "8                0.0                    0.0                  0.0   \n",
       "9                0.0                    0.0                  0.0   \n",
       "\n",
       "   LP_NonPrincipalRecoverypayments  PercentFunded  Recommendations  \\\n",
       "0                              0.0            1.0                0   \n",
       "1                              0.0            1.0                0   \n",
       "2                              0.0            1.0                0   \n",
       "3                              0.0            1.0                0   \n",
       "4                              0.0            1.0                0   \n",
       "5                              0.0            1.0                0   \n",
       "6                              0.0            1.0                0   \n",
       "7                              0.0            1.0                0   \n",
       "8                              0.0            1.0                0   \n",
       "9                              0.0            1.0                0   \n",
       "\n",
       "   InvestmentFromFriendsCount  InvestmentFromFriendsAmount  Investors  \n",
       "0                           0                          0.0        258  \n",
       "1                           0                          0.0          1  \n",
       "2                           0                          0.0         41  \n",
       "3                           0                          0.0        158  \n",
       "4                           0                          0.0         20  \n",
       "5                           0                          0.0          1  \n",
       "6                           0                          0.0          1  \n",
       "7                           0                          0.0          1  \n",
       "8                           0                          0.0          1  \n",
       "9                           0                          0.0          1  "
      ]
     },
     "execution_count": 15,
     "metadata": {},
     "output_type": "execute_result"
    }
   ],
   "source": [
    "# loading the dataset and viewing the 1st 10 rows of the dataset\n",
    "\n",
    "loan = pd.read_csv('prosperLoanData.csv')\n",
    "loan.head(10)"
   ]
  },
  {
   "cell_type": "code",
   "execution_count": 16,
   "metadata": {},
   "outputs": [
    {
     "data": {
      "text/plain": [
       "(113937, 81)"
      ]
     },
     "execution_count": 16,
     "metadata": {},
     "output_type": "execute_result"
    }
   ],
   "source": [
    "# Understanding the shape of the dataset\n",
    "\n",
    "loan.shape"
   ]
  },
  {
   "cell_type": "code",
   "execution_count": 17,
   "metadata": {
    "scrolled": true
   },
   "outputs": [
    {
     "name": "stdout",
     "output_type": "stream",
     "text": [
      "<class 'pandas.core.frame.DataFrame'>\n",
      "RangeIndex: 113937 entries, 0 to 113936\n",
      "Data columns (total 81 columns):\n",
      " #   Column                               Non-Null Count   Dtype  \n",
      "---  ------                               --------------   -----  \n",
      " 0   ListingKey                           113937 non-null  object \n",
      " 1   ListingNumber                        113937 non-null  int64  \n",
      " 2   ListingCreationDate                  113937 non-null  object \n",
      " 3   CreditGrade                          28953 non-null   object \n",
      " 4   Term                                 113937 non-null  int64  \n",
      " 5   LoanStatus                           113937 non-null  object \n",
      " 6   ClosedDate                           55089 non-null   object \n",
      " 7   BorrowerAPR                          113912 non-null  float64\n",
      " 8   BorrowerRate                         113937 non-null  float64\n",
      " 9   LenderYield                          113937 non-null  float64\n",
      " 10  EstimatedEffectiveYield              84853 non-null   float64\n",
      " 11  EstimatedLoss                        84853 non-null   float64\n",
      " 12  EstimatedReturn                      84853 non-null   float64\n",
      " 13  ProsperRating (numeric)              84853 non-null   float64\n",
      " 14  ProsperRating (Alpha)                84853 non-null   object \n",
      " 15  ProsperScore                         84853 non-null   float64\n",
      " 16  ListingCategory (numeric)            113937 non-null  int64  \n",
      " 17  BorrowerState                        108422 non-null  object \n",
      " 18  Occupation                           110349 non-null  object \n",
      " 19  EmploymentStatus                     111682 non-null  object \n",
      " 20  EmploymentStatusDuration             106312 non-null  float64\n",
      " 21  IsBorrowerHomeowner                  113937 non-null  bool   \n",
      " 22  CurrentlyInGroup                     113937 non-null  bool   \n",
      " 23  GroupKey                             13341 non-null   object \n",
      " 24  DateCreditPulled                     113937 non-null  object \n",
      " 25  CreditScoreRangeLower                113346 non-null  float64\n",
      " 26  CreditScoreRangeUpper                113346 non-null  float64\n",
      " 27  FirstRecordedCreditLine              113240 non-null  object \n",
      " 28  CurrentCreditLines                   106333 non-null  float64\n",
      " 29  OpenCreditLines                      106333 non-null  float64\n",
      " 30  TotalCreditLinespast7years           113240 non-null  float64\n",
      " 31  OpenRevolvingAccounts                113937 non-null  int64  \n",
      " 32  OpenRevolvingMonthlyPayment          113937 non-null  float64\n",
      " 33  InquiriesLast6Months                 113240 non-null  float64\n",
      " 34  TotalInquiries                       112778 non-null  float64\n",
      " 35  CurrentDelinquencies                 113240 non-null  float64\n",
      " 36  AmountDelinquent                     106315 non-null  float64\n",
      " 37  DelinquenciesLast7Years              112947 non-null  float64\n",
      " 38  PublicRecordsLast10Years             113240 non-null  float64\n",
      " 39  PublicRecordsLast12Months            106333 non-null  float64\n",
      " 40  RevolvingCreditBalance               106333 non-null  float64\n",
      " 41  BankcardUtilization                  106333 non-null  float64\n",
      " 42  AvailableBankcardCredit              106393 non-null  float64\n",
      " 43  TotalTrades                          106393 non-null  float64\n",
      " 44  TradesNeverDelinquent (percentage)   106393 non-null  float64\n",
      " 45  TradesOpenedLast6Months              106393 non-null  float64\n",
      " 46  DebtToIncomeRatio                    105383 non-null  float64\n",
      " 47  IncomeRange                          113937 non-null  object \n",
      " 48  IncomeVerifiable                     113937 non-null  bool   \n",
      " 49  StatedMonthlyIncome                  113937 non-null  float64\n",
      " 50  LoanKey                              113937 non-null  object \n",
      " 51  TotalProsperLoans                    22085 non-null   float64\n",
      " 52  TotalProsperPaymentsBilled           22085 non-null   float64\n",
      " 53  OnTimeProsperPayments                22085 non-null   float64\n",
      " 54  ProsperPaymentsLessThanOneMonthLate  22085 non-null   float64\n",
      " 55  ProsperPaymentsOneMonthPlusLate      22085 non-null   float64\n",
      " 56  ProsperPrincipalBorrowed             22085 non-null   float64\n",
      " 57  ProsperPrincipalOutstanding          22085 non-null   float64\n",
      " 58  ScorexChangeAtTimeOfListing          18928 non-null   float64\n",
      " 59  LoanCurrentDaysDelinquent            113937 non-null  int64  \n",
      " 60  LoanFirstDefaultedCycleNumber        16952 non-null   float64\n",
      " 61  LoanMonthsSinceOrigination           113937 non-null  int64  \n",
      " 62  LoanNumber                           113937 non-null  int64  \n",
      " 63  LoanOriginalAmount                   113937 non-null  int64  \n",
      " 64  LoanOriginationDate                  113937 non-null  object \n",
      " 65  LoanOriginationQuarter               113937 non-null  object \n",
      " 66  MemberKey                            113937 non-null  object \n",
      " 67  MonthlyLoanPayment                   113937 non-null  float64\n",
      " 68  LP_CustomerPayments                  113937 non-null  float64\n",
      " 69  LP_CustomerPrincipalPayments         113937 non-null  float64\n",
      " 70  LP_InterestandFees                   113937 non-null  float64\n",
      " 71  LP_ServiceFees                       113937 non-null  float64\n",
      " 72  LP_CollectionFees                    113937 non-null  float64\n",
      " 73  LP_GrossPrincipalLoss                113937 non-null  float64\n",
      " 74  LP_NetPrincipalLoss                  113937 non-null  float64\n",
      " 75  LP_NonPrincipalRecoverypayments      113937 non-null  float64\n",
      " 76  PercentFunded                        113937 non-null  float64\n",
      " 77  Recommendations                      113937 non-null  int64  \n",
      " 78  InvestmentFromFriendsCount           113937 non-null  int64  \n",
      " 79  InvestmentFromFriendsAmount          113937 non-null  float64\n",
      " 80  Investors                            113937 non-null  int64  \n",
      "dtypes: bool(3), float64(50), int64(11), object(17)\n",
      "memory usage: 68.1+ MB\n"
     ]
    }
   ],
   "source": [
    "# A highlevel overview of the structure of the dataset. This reveals information such as the data types, the count of each variable\n",
    "# and the number of non-null numbers \n",
    "\n",
    "\n",
    "loan.info()"
   ]
  },
  {
   "cell_type": "code",
   "execution_count": 18,
   "metadata": {},
   "outputs": [
    {
     "data": {
      "text/html": [
       "<div>\n",
       "<style scoped>\n",
       "    .dataframe tbody tr th:only-of-type {\n",
       "        vertical-align: middle;\n",
       "    }\n",
       "\n",
       "    .dataframe tbody tr th {\n",
       "        vertical-align: top;\n",
       "    }\n",
       "\n",
       "    .dataframe thead th {\n",
       "        text-align: right;\n",
       "    }\n",
       "</style>\n",
       "<table border=\"1\" class=\"dataframe\">\n",
       "  <thead>\n",
       "    <tr style=\"text-align: right;\">\n",
       "      <th></th>\n",
       "      <th>ListingNumber</th>\n",
       "      <th>Term</th>\n",
       "      <th>BorrowerAPR</th>\n",
       "      <th>BorrowerRate</th>\n",
       "      <th>LenderYield</th>\n",
       "      <th>EstimatedEffectiveYield</th>\n",
       "      <th>EstimatedLoss</th>\n",
       "      <th>EstimatedReturn</th>\n",
       "      <th>ProsperRating (numeric)</th>\n",
       "      <th>ProsperScore</th>\n",
       "      <th>ListingCategory (numeric)</th>\n",
       "      <th>EmploymentStatusDuration</th>\n",
       "      <th>CreditScoreRangeLower</th>\n",
       "      <th>CreditScoreRangeUpper</th>\n",
       "      <th>CurrentCreditLines</th>\n",
       "      <th>OpenCreditLines</th>\n",
       "      <th>TotalCreditLinespast7years</th>\n",
       "      <th>OpenRevolvingAccounts</th>\n",
       "      <th>OpenRevolvingMonthlyPayment</th>\n",
       "      <th>InquiriesLast6Months</th>\n",
       "      <th>TotalInquiries</th>\n",
       "      <th>CurrentDelinquencies</th>\n",
       "      <th>AmountDelinquent</th>\n",
       "      <th>DelinquenciesLast7Years</th>\n",
       "      <th>PublicRecordsLast10Years</th>\n",
       "      <th>PublicRecordsLast12Months</th>\n",
       "      <th>RevolvingCreditBalance</th>\n",
       "      <th>BankcardUtilization</th>\n",
       "      <th>AvailableBankcardCredit</th>\n",
       "      <th>TotalTrades</th>\n",
       "      <th>TradesNeverDelinquent (percentage)</th>\n",
       "      <th>TradesOpenedLast6Months</th>\n",
       "      <th>DebtToIncomeRatio</th>\n",
       "      <th>StatedMonthlyIncome</th>\n",
       "      <th>TotalProsperLoans</th>\n",
       "      <th>TotalProsperPaymentsBilled</th>\n",
       "      <th>OnTimeProsperPayments</th>\n",
       "      <th>ProsperPaymentsLessThanOneMonthLate</th>\n",
       "      <th>ProsperPaymentsOneMonthPlusLate</th>\n",
       "      <th>ProsperPrincipalBorrowed</th>\n",
       "      <th>ProsperPrincipalOutstanding</th>\n",
       "      <th>ScorexChangeAtTimeOfListing</th>\n",
       "      <th>LoanCurrentDaysDelinquent</th>\n",
       "      <th>LoanFirstDefaultedCycleNumber</th>\n",
       "      <th>LoanMonthsSinceOrigination</th>\n",
       "      <th>LoanNumber</th>\n",
       "      <th>LoanOriginalAmount</th>\n",
       "      <th>MonthlyLoanPayment</th>\n",
       "      <th>LP_CustomerPayments</th>\n",
       "      <th>LP_CustomerPrincipalPayments</th>\n",
       "      <th>LP_InterestandFees</th>\n",
       "      <th>LP_ServiceFees</th>\n",
       "      <th>LP_CollectionFees</th>\n",
       "      <th>LP_GrossPrincipalLoss</th>\n",
       "      <th>LP_NetPrincipalLoss</th>\n",
       "      <th>LP_NonPrincipalRecoverypayments</th>\n",
       "      <th>PercentFunded</th>\n",
       "      <th>Recommendations</th>\n",
       "      <th>InvestmentFromFriendsCount</th>\n",
       "      <th>InvestmentFromFriendsAmount</th>\n",
       "      <th>Investors</th>\n",
       "    </tr>\n",
       "  </thead>\n",
       "  <tbody>\n",
       "    <tr>\n",
       "      <th>count</th>\n",
       "      <td>1.139370e+05</td>\n",
       "      <td>113937.000000</td>\n",
       "      <td>113912.000000</td>\n",
       "      <td>113937.000000</td>\n",
       "      <td>113937.000000</td>\n",
       "      <td>84853.000000</td>\n",
       "      <td>84853.000000</td>\n",
       "      <td>84853.000000</td>\n",
       "      <td>84853.000000</td>\n",
       "      <td>84853.000000</td>\n",
       "      <td>113937.000000</td>\n",
       "      <td>106312.000000</td>\n",
       "      <td>113346.000000</td>\n",
       "      <td>113346.000000</td>\n",
       "      <td>106333.000000</td>\n",
       "      <td>106333.000000</td>\n",
       "      <td>113240.000000</td>\n",
       "      <td>113937.00000</td>\n",
       "      <td>113937.000000</td>\n",
       "      <td>113240.000000</td>\n",
       "      <td>112778.000000</td>\n",
       "      <td>113240.000000</td>\n",
       "      <td>106315.000000</td>\n",
       "      <td>112947.000000</td>\n",
       "      <td>113240.000000</td>\n",
       "      <td>106333.000000</td>\n",
       "      <td>1.063330e+05</td>\n",
       "      <td>106333.000000</td>\n",
       "      <td>106393.000000</td>\n",
       "      <td>106393.000000</td>\n",
       "      <td>106393.000000</td>\n",
       "      <td>106393.000000</td>\n",
       "      <td>105383.000000</td>\n",
       "      <td>1.139370e+05</td>\n",
       "      <td>22085.000000</td>\n",
       "      <td>22085.000000</td>\n",
       "      <td>22085.000000</td>\n",
       "      <td>22085.000000</td>\n",
       "      <td>22085.000000</td>\n",
       "      <td>22085.000000</td>\n",
       "      <td>22085.000000</td>\n",
       "      <td>18928.000000</td>\n",
       "      <td>113937.000000</td>\n",
       "      <td>16952.000000</td>\n",
       "      <td>113937.000000</td>\n",
       "      <td>113937.000000</td>\n",
       "      <td>113937.00000</td>\n",
       "      <td>113937.000000</td>\n",
       "      <td>113937.000000</td>\n",
       "      <td>113937.000000</td>\n",
       "      <td>113937.000000</td>\n",
       "      <td>113937.000000</td>\n",
       "      <td>113937.000000</td>\n",
       "      <td>113937.000000</td>\n",
       "      <td>113937.000000</td>\n",
       "      <td>113937.000000</td>\n",
       "      <td>113937.000000</td>\n",
       "      <td>113937.000000</td>\n",
       "      <td>113937.000000</td>\n",
       "      <td>113937.000000</td>\n",
       "      <td>113937.000000</td>\n",
       "    </tr>\n",
       "    <tr>\n",
       "      <th>mean</th>\n",
       "      <td>6.278857e+05</td>\n",
       "      <td>40.830248</td>\n",
       "      <td>0.218828</td>\n",
       "      <td>0.192764</td>\n",
       "      <td>0.182701</td>\n",
       "      <td>0.168661</td>\n",
       "      <td>0.080306</td>\n",
       "      <td>0.096068</td>\n",
       "      <td>4.072243</td>\n",
       "      <td>5.950067</td>\n",
       "      <td>2.774209</td>\n",
       "      <td>96.071582</td>\n",
       "      <td>685.567731</td>\n",
       "      <td>704.567731</td>\n",
       "      <td>10.317192</td>\n",
       "      <td>9.260164</td>\n",
       "      <td>26.754539</td>\n",
       "      <td>6.96979</td>\n",
       "      <td>398.292161</td>\n",
       "      <td>1.435085</td>\n",
       "      <td>5.584405</td>\n",
       "      <td>0.592052</td>\n",
       "      <td>984.507059</td>\n",
       "      <td>4.154984</td>\n",
       "      <td>0.312646</td>\n",
       "      <td>0.015094</td>\n",
       "      <td>1.759871e+04</td>\n",
       "      <td>0.561309</td>\n",
       "      <td>11210.225447</td>\n",
       "      <td>23.230034</td>\n",
       "      <td>0.885897</td>\n",
       "      <td>0.802327</td>\n",
       "      <td>0.275947</td>\n",
       "      <td>5.608026e+03</td>\n",
       "      <td>1.421100</td>\n",
       "      <td>22.934345</td>\n",
       "      <td>22.271949</td>\n",
       "      <td>0.613629</td>\n",
       "      <td>0.048540</td>\n",
       "      <td>8472.311961</td>\n",
       "      <td>2930.313906</td>\n",
       "      <td>-3.223214</td>\n",
       "      <td>152.816539</td>\n",
       "      <td>16.268464</td>\n",
       "      <td>31.896882</td>\n",
       "      <td>69444.474271</td>\n",
       "      <td>8337.01385</td>\n",
       "      <td>272.475783</td>\n",
       "      <td>4183.079489</td>\n",
       "      <td>3105.536588</td>\n",
       "      <td>1077.542901</td>\n",
       "      <td>-54.725641</td>\n",
       "      <td>-14.242698</td>\n",
       "      <td>700.446342</td>\n",
       "      <td>681.420499</td>\n",
       "      <td>25.142686</td>\n",
       "      <td>0.998584</td>\n",
       "      <td>0.048027</td>\n",
       "      <td>0.023460</td>\n",
       "      <td>16.550751</td>\n",
       "      <td>80.475228</td>\n",
       "    </tr>\n",
       "    <tr>\n",
       "      <th>std</th>\n",
       "      <td>3.280762e+05</td>\n",
       "      <td>10.436212</td>\n",
       "      <td>0.080364</td>\n",
       "      <td>0.074818</td>\n",
       "      <td>0.074516</td>\n",
       "      <td>0.068467</td>\n",
       "      <td>0.046764</td>\n",
       "      <td>0.030403</td>\n",
       "      <td>1.673227</td>\n",
       "      <td>2.376501</td>\n",
       "      <td>3.996797</td>\n",
       "      <td>94.480605</td>\n",
       "      <td>66.458275</td>\n",
       "      <td>66.458275</td>\n",
       "      <td>5.457866</td>\n",
       "      <td>5.022644</td>\n",
       "      <td>13.637871</td>\n",
       "      <td>4.63097</td>\n",
       "      <td>447.159711</td>\n",
       "      <td>2.437507</td>\n",
       "      <td>6.429946</td>\n",
       "      <td>1.978707</td>\n",
       "      <td>7158.270157</td>\n",
       "      <td>10.160216</td>\n",
       "      <td>0.727868</td>\n",
       "      <td>0.154092</td>\n",
       "      <td>3.293640e+04</td>\n",
       "      <td>0.317918</td>\n",
       "      <td>19818.361309</td>\n",
       "      <td>11.871311</td>\n",
       "      <td>0.148179</td>\n",
       "      <td>1.097637</td>\n",
       "      <td>0.551759</td>\n",
       "      <td>7.478497e+03</td>\n",
       "      <td>0.764042</td>\n",
       "      <td>19.249584</td>\n",
       "      <td>18.830425</td>\n",
       "      <td>2.446827</td>\n",
       "      <td>0.556285</td>\n",
       "      <td>7395.507650</td>\n",
       "      <td>3806.635075</td>\n",
       "      <td>50.063567</td>\n",
       "      <td>466.320254</td>\n",
       "      <td>9.005898</td>\n",
       "      <td>29.974184</td>\n",
       "      <td>38930.479610</td>\n",
       "      <td>6245.80058</td>\n",
       "      <td>192.697812</td>\n",
       "      <td>4790.907234</td>\n",
       "      <td>4069.527670</td>\n",
       "      <td>1183.414168</td>\n",
       "      <td>60.675425</td>\n",
       "      <td>109.232758</td>\n",
       "      <td>2388.513831</td>\n",
       "      <td>2357.167068</td>\n",
       "      <td>275.657937</td>\n",
       "      <td>0.017919</td>\n",
       "      <td>0.332353</td>\n",
       "      <td>0.232412</td>\n",
       "      <td>294.545422</td>\n",
       "      <td>103.239020</td>\n",
       "    </tr>\n",
       "    <tr>\n",
       "      <th>min</th>\n",
       "      <td>4.000000e+00</td>\n",
       "      <td>12.000000</td>\n",
       "      <td>0.006530</td>\n",
       "      <td>0.000000</td>\n",
       "      <td>-0.010000</td>\n",
       "      <td>-0.182700</td>\n",
       "      <td>0.004900</td>\n",
       "      <td>-0.182700</td>\n",
       "      <td>1.000000</td>\n",
       "      <td>1.000000</td>\n",
       "      <td>0.000000</td>\n",
       "      <td>0.000000</td>\n",
       "      <td>0.000000</td>\n",
       "      <td>19.000000</td>\n",
       "      <td>0.000000</td>\n",
       "      <td>0.000000</td>\n",
       "      <td>2.000000</td>\n",
       "      <td>0.00000</td>\n",
       "      <td>0.000000</td>\n",
       "      <td>0.000000</td>\n",
       "      <td>0.000000</td>\n",
       "      <td>0.000000</td>\n",
       "      <td>0.000000</td>\n",
       "      <td>0.000000</td>\n",
       "      <td>0.000000</td>\n",
       "      <td>0.000000</td>\n",
       "      <td>0.000000e+00</td>\n",
       "      <td>0.000000</td>\n",
       "      <td>0.000000</td>\n",
       "      <td>0.000000</td>\n",
       "      <td>0.000000</td>\n",
       "      <td>0.000000</td>\n",
       "      <td>0.000000</td>\n",
       "      <td>0.000000e+00</td>\n",
       "      <td>0.000000</td>\n",
       "      <td>0.000000</td>\n",
       "      <td>0.000000</td>\n",
       "      <td>0.000000</td>\n",
       "      <td>0.000000</td>\n",
       "      <td>0.000000</td>\n",
       "      <td>0.000000</td>\n",
       "      <td>-209.000000</td>\n",
       "      <td>0.000000</td>\n",
       "      <td>0.000000</td>\n",
       "      <td>0.000000</td>\n",
       "      <td>1.000000</td>\n",
       "      <td>1000.00000</td>\n",
       "      <td>0.000000</td>\n",
       "      <td>-2.349900</td>\n",
       "      <td>0.000000</td>\n",
       "      <td>-2.349900</td>\n",
       "      <td>-664.870000</td>\n",
       "      <td>-9274.750000</td>\n",
       "      <td>-94.200000</td>\n",
       "      <td>-954.550000</td>\n",
       "      <td>0.000000</td>\n",
       "      <td>0.700000</td>\n",
       "      <td>0.000000</td>\n",
       "      <td>0.000000</td>\n",
       "      <td>0.000000</td>\n",
       "      <td>1.000000</td>\n",
       "    </tr>\n",
       "    <tr>\n",
       "      <th>25%</th>\n",
       "      <td>4.009190e+05</td>\n",
       "      <td>36.000000</td>\n",
       "      <td>0.156290</td>\n",
       "      <td>0.134000</td>\n",
       "      <td>0.124200</td>\n",
       "      <td>0.115670</td>\n",
       "      <td>0.042400</td>\n",
       "      <td>0.074080</td>\n",
       "      <td>3.000000</td>\n",
       "      <td>4.000000</td>\n",
       "      <td>1.000000</td>\n",
       "      <td>26.000000</td>\n",
       "      <td>660.000000</td>\n",
       "      <td>679.000000</td>\n",
       "      <td>7.000000</td>\n",
       "      <td>6.000000</td>\n",
       "      <td>17.000000</td>\n",
       "      <td>4.00000</td>\n",
       "      <td>114.000000</td>\n",
       "      <td>0.000000</td>\n",
       "      <td>2.000000</td>\n",
       "      <td>0.000000</td>\n",
       "      <td>0.000000</td>\n",
       "      <td>0.000000</td>\n",
       "      <td>0.000000</td>\n",
       "      <td>0.000000</td>\n",
       "      <td>3.121000e+03</td>\n",
       "      <td>0.310000</td>\n",
       "      <td>880.000000</td>\n",
       "      <td>15.000000</td>\n",
       "      <td>0.820000</td>\n",
       "      <td>0.000000</td>\n",
       "      <td>0.140000</td>\n",
       "      <td>3.200333e+03</td>\n",
       "      <td>1.000000</td>\n",
       "      <td>9.000000</td>\n",
       "      <td>9.000000</td>\n",
       "      <td>0.000000</td>\n",
       "      <td>0.000000</td>\n",
       "      <td>3500.000000</td>\n",
       "      <td>0.000000</td>\n",
       "      <td>-35.000000</td>\n",
       "      <td>0.000000</td>\n",
       "      <td>9.000000</td>\n",
       "      <td>6.000000</td>\n",
       "      <td>37332.000000</td>\n",
       "      <td>4000.00000</td>\n",
       "      <td>131.620000</td>\n",
       "      <td>1005.760000</td>\n",
       "      <td>500.890000</td>\n",
       "      <td>274.870000</td>\n",
       "      <td>-73.180000</td>\n",
       "      <td>0.000000</td>\n",
       "      <td>0.000000</td>\n",
       "      <td>0.000000</td>\n",
       "      <td>0.000000</td>\n",
       "      <td>1.000000</td>\n",
       "      <td>0.000000</td>\n",
       "      <td>0.000000</td>\n",
       "      <td>0.000000</td>\n",
       "      <td>2.000000</td>\n",
       "    </tr>\n",
       "    <tr>\n",
       "      <th>50%</th>\n",
       "      <td>6.005540e+05</td>\n",
       "      <td>36.000000</td>\n",
       "      <td>0.209760</td>\n",
       "      <td>0.184000</td>\n",
       "      <td>0.173000</td>\n",
       "      <td>0.161500</td>\n",
       "      <td>0.072400</td>\n",
       "      <td>0.091700</td>\n",
       "      <td>4.000000</td>\n",
       "      <td>6.000000</td>\n",
       "      <td>1.000000</td>\n",
       "      <td>67.000000</td>\n",
       "      <td>680.000000</td>\n",
       "      <td>699.000000</td>\n",
       "      <td>10.000000</td>\n",
       "      <td>9.000000</td>\n",
       "      <td>25.000000</td>\n",
       "      <td>6.00000</td>\n",
       "      <td>271.000000</td>\n",
       "      <td>1.000000</td>\n",
       "      <td>4.000000</td>\n",
       "      <td>0.000000</td>\n",
       "      <td>0.000000</td>\n",
       "      <td>0.000000</td>\n",
       "      <td>0.000000</td>\n",
       "      <td>0.000000</td>\n",
       "      <td>8.549000e+03</td>\n",
       "      <td>0.600000</td>\n",
       "      <td>4100.000000</td>\n",
       "      <td>22.000000</td>\n",
       "      <td>0.940000</td>\n",
       "      <td>0.000000</td>\n",
       "      <td>0.220000</td>\n",
       "      <td>4.666667e+03</td>\n",
       "      <td>1.000000</td>\n",
       "      <td>16.000000</td>\n",
       "      <td>15.000000</td>\n",
       "      <td>0.000000</td>\n",
       "      <td>0.000000</td>\n",
       "      <td>6000.000000</td>\n",
       "      <td>1626.550000</td>\n",
       "      <td>-3.000000</td>\n",
       "      <td>0.000000</td>\n",
       "      <td>14.000000</td>\n",
       "      <td>21.000000</td>\n",
       "      <td>68599.000000</td>\n",
       "      <td>6500.00000</td>\n",
       "      <td>217.740000</td>\n",
       "      <td>2583.830000</td>\n",
       "      <td>1587.500000</td>\n",
       "      <td>700.840100</td>\n",
       "      <td>-34.440000</td>\n",
       "      <td>0.000000</td>\n",
       "      <td>0.000000</td>\n",
       "      <td>0.000000</td>\n",
       "      <td>0.000000</td>\n",
       "      <td>1.000000</td>\n",
       "      <td>0.000000</td>\n",
       "      <td>0.000000</td>\n",
       "      <td>0.000000</td>\n",
       "      <td>44.000000</td>\n",
       "    </tr>\n",
       "    <tr>\n",
       "      <th>75%</th>\n",
       "      <td>8.926340e+05</td>\n",
       "      <td>36.000000</td>\n",
       "      <td>0.283810</td>\n",
       "      <td>0.250000</td>\n",
       "      <td>0.240000</td>\n",
       "      <td>0.224300</td>\n",
       "      <td>0.112000</td>\n",
       "      <td>0.116600</td>\n",
       "      <td>5.000000</td>\n",
       "      <td>8.000000</td>\n",
       "      <td>3.000000</td>\n",
       "      <td>137.000000</td>\n",
       "      <td>720.000000</td>\n",
       "      <td>739.000000</td>\n",
       "      <td>13.000000</td>\n",
       "      <td>12.000000</td>\n",
       "      <td>35.000000</td>\n",
       "      <td>9.00000</td>\n",
       "      <td>525.000000</td>\n",
       "      <td>2.000000</td>\n",
       "      <td>7.000000</td>\n",
       "      <td>0.000000</td>\n",
       "      <td>0.000000</td>\n",
       "      <td>3.000000</td>\n",
       "      <td>0.000000</td>\n",
       "      <td>0.000000</td>\n",
       "      <td>1.952100e+04</td>\n",
       "      <td>0.840000</td>\n",
       "      <td>13180.000000</td>\n",
       "      <td>30.000000</td>\n",
       "      <td>1.000000</td>\n",
       "      <td>1.000000</td>\n",
       "      <td>0.320000</td>\n",
       "      <td>6.825000e+03</td>\n",
       "      <td>2.000000</td>\n",
       "      <td>33.000000</td>\n",
       "      <td>32.000000</td>\n",
       "      <td>0.000000</td>\n",
       "      <td>0.000000</td>\n",
       "      <td>11000.000000</td>\n",
       "      <td>4126.720000</td>\n",
       "      <td>25.000000</td>\n",
       "      <td>0.000000</td>\n",
       "      <td>22.000000</td>\n",
       "      <td>65.000000</td>\n",
       "      <td>101901.000000</td>\n",
       "      <td>12000.00000</td>\n",
       "      <td>371.580000</td>\n",
       "      <td>5548.400000</td>\n",
       "      <td>4000.000000</td>\n",
       "      <td>1458.540000</td>\n",
       "      <td>-13.920000</td>\n",
       "      <td>0.000000</td>\n",
       "      <td>0.000000</td>\n",
       "      <td>0.000000</td>\n",
       "      <td>0.000000</td>\n",
       "      <td>1.000000</td>\n",
       "      <td>0.000000</td>\n",
       "      <td>0.000000</td>\n",
       "      <td>0.000000</td>\n",
       "      <td>115.000000</td>\n",
       "    </tr>\n",
       "    <tr>\n",
       "      <th>max</th>\n",
       "      <td>1.255725e+06</td>\n",
       "      <td>60.000000</td>\n",
       "      <td>0.512290</td>\n",
       "      <td>0.497500</td>\n",
       "      <td>0.492500</td>\n",
       "      <td>0.319900</td>\n",
       "      <td>0.366000</td>\n",
       "      <td>0.283700</td>\n",
       "      <td>7.000000</td>\n",
       "      <td>11.000000</td>\n",
       "      <td>20.000000</td>\n",
       "      <td>755.000000</td>\n",
       "      <td>880.000000</td>\n",
       "      <td>899.000000</td>\n",
       "      <td>59.000000</td>\n",
       "      <td>54.000000</td>\n",
       "      <td>136.000000</td>\n",
       "      <td>51.00000</td>\n",
       "      <td>14985.000000</td>\n",
       "      <td>105.000000</td>\n",
       "      <td>379.000000</td>\n",
       "      <td>83.000000</td>\n",
       "      <td>463881.000000</td>\n",
       "      <td>99.000000</td>\n",
       "      <td>38.000000</td>\n",
       "      <td>20.000000</td>\n",
       "      <td>1.435667e+06</td>\n",
       "      <td>5.950000</td>\n",
       "      <td>646285.000000</td>\n",
       "      <td>126.000000</td>\n",
       "      <td>1.000000</td>\n",
       "      <td>20.000000</td>\n",
       "      <td>10.010000</td>\n",
       "      <td>1.750003e+06</td>\n",
       "      <td>8.000000</td>\n",
       "      <td>141.000000</td>\n",
       "      <td>141.000000</td>\n",
       "      <td>42.000000</td>\n",
       "      <td>21.000000</td>\n",
       "      <td>72499.000000</td>\n",
       "      <td>23450.950000</td>\n",
       "      <td>286.000000</td>\n",
       "      <td>2704.000000</td>\n",
       "      <td>44.000000</td>\n",
       "      <td>100.000000</td>\n",
       "      <td>136486.000000</td>\n",
       "      <td>35000.00000</td>\n",
       "      <td>2251.510000</td>\n",
       "      <td>40702.390000</td>\n",
       "      <td>35000.000000</td>\n",
       "      <td>15617.030000</td>\n",
       "      <td>32.060000</td>\n",
       "      <td>0.000000</td>\n",
       "      <td>25000.000000</td>\n",
       "      <td>25000.000000</td>\n",
       "      <td>21117.900000</td>\n",
       "      <td>1.012500</td>\n",
       "      <td>39.000000</td>\n",
       "      <td>33.000000</td>\n",
       "      <td>25000.000000</td>\n",
       "      <td>1189.000000</td>\n",
       "    </tr>\n",
       "  </tbody>\n",
       "</table>\n",
       "</div>"
      ],
      "text/plain": [
       "       ListingNumber           Term    BorrowerAPR   BorrowerRate  \\\n",
       "count   1.139370e+05  113937.000000  113912.000000  113937.000000   \n",
       "mean    6.278857e+05      40.830248       0.218828       0.192764   \n",
       "std     3.280762e+05      10.436212       0.080364       0.074818   \n",
       "min     4.000000e+00      12.000000       0.006530       0.000000   \n",
       "25%     4.009190e+05      36.000000       0.156290       0.134000   \n",
       "50%     6.005540e+05      36.000000       0.209760       0.184000   \n",
       "75%     8.926340e+05      36.000000       0.283810       0.250000   \n",
       "max     1.255725e+06      60.000000       0.512290       0.497500   \n",
       "\n",
       "         LenderYield  EstimatedEffectiveYield  EstimatedLoss  EstimatedReturn  \\\n",
       "count  113937.000000             84853.000000   84853.000000     84853.000000   \n",
       "mean        0.182701                 0.168661       0.080306         0.096068   \n",
       "std         0.074516                 0.068467       0.046764         0.030403   \n",
       "min        -0.010000                -0.182700       0.004900        -0.182700   \n",
       "25%         0.124200                 0.115670       0.042400         0.074080   \n",
       "50%         0.173000                 0.161500       0.072400         0.091700   \n",
       "75%         0.240000                 0.224300       0.112000         0.116600   \n",
       "max         0.492500                 0.319900       0.366000         0.283700   \n",
       "\n",
       "       ProsperRating (numeric)  ProsperScore  ListingCategory (numeric)  \\\n",
       "count             84853.000000  84853.000000              113937.000000   \n",
       "mean                  4.072243      5.950067                   2.774209   \n",
       "std                   1.673227      2.376501                   3.996797   \n",
       "min                   1.000000      1.000000                   0.000000   \n",
       "25%                   3.000000      4.000000                   1.000000   \n",
       "50%                   4.000000      6.000000                   1.000000   \n",
       "75%                   5.000000      8.000000                   3.000000   \n",
       "max                   7.000000     11.000000                  20.000000   \n",
       "\n",
       "       EmploymentStatusDuration  CreditScoreRangeLower  CreditScoreRangeUpper  \\\n",
       "count             106312.000000          113346.000000          113346.000000   \n",
       "mean                  96.071582             685.567731             704.567731   \n",
       "std                   94.480605              66.458275              66.458275   \n",
       "min                    0.000000               0.000000              19.000000   \n",
       "25%                   26.000000             660.000000             679.000000   \n",
       "50%                   67.000000             680.000000             699.000000   \n",
       "75%                  137.000000             720.000000             739.000000   \n",
       "max                  755.000000             880.000000             899.000000   \n",
       "\n",
       "       CurrentCreditLines  OpenCreditLines  TotalCreditLinespast7years  \\\n",
       "count       106333.000000    106333.000000               113240.000000   \n",
       "mean            10.317192         9.260164                   26.754539   \n",
       "std              5.457866         5.022644                   13.637871   \n",
       "min              0.000000         0.000000                    2.000000   \n",
       "25%              7.000000         6.000000                   17.000000   \n",
       "50%             10.000000         9.000000                   25.000000   \n",
       "75%             13.000000        12.000000                   35.000000   \n",
       "max             59.000000        54.000000                  136.000000   \n",
       "\n",
       "       OpenRevolvingAccounts  OpenRevolvingMonthlyPayment  \\\n",
       "count           113937.00000                113937.000000   \n",
       "mean                 6.96979                   398.292161   \n",
       "std                  4.63097                   447.159711   \n",
       "min                  0.00000                     0.000000   \n",
       "25%                  4.00000                   114.000000   \n",
       "50%                  6.00000                   271.000000   \n",
       "75%                  9.00000                   525.000000   \n",
       "max                 51.00000                 14985.000000   \n",
       "\n",
       "       InquiriesLast6Months  TotalInquiries  CurrentDelinquencies  \\\n",
       "count         113240.000000   112778.000000         113240.000000   \n",
       "mean               1.435085        5.584405              0.592052   \n",
       "std                2.437507        6.429946              1.978707   \n",
       "min                0.000000        0.000000              0.000000   \n",
       "25%                0.000000        2.000000              0.000000   \n",
       "50%                1.000000        4.000000              0.000000   \n",
       "75%                2.000000        7.000000              0.000000   \n",
       "max              105.000000      379.000000             83.000000   \n",
       "\n",
       "       AmountDelinquent  DelinquenciesLast7Years  PublicRecordsLast10Years  \\\n",
       "count     106315.000000            112947.000000             113240.000000   \n",
       "mean         984.507059                 4.154984                  0.312646   \n",
       "std         7158.270157                10.160216                  0.727868   \n",
       "min            0.000000                 0.000000                  0.000000   \n",
       "25%            0.000000                 0.000000                  0.000000   \n",
       "50%            0.000000                 0.000000                  0.000000   \n",
       "75%            0.000000                 3.000000                  0.000000   \n",
       "max       463881.000000                99.000000                 38.000000   \n",
       "\n",
       "       PublicRecordsLast12Months  RevolvingCreditBalance  BankcardUtilization  \\\n",
       "count              106333.000000            1.063330e+05        106333.000000   \n",
       "mean                    0.015094            1.759871e+04             0.561309   \n",
       "std                     0.154092            3.293640e+04             0.317918   \n",
       "min                     0.000000            0.000000e+00             0.000000   \n",
       "25%                     0.000000            3.121000e+03             0.310000   \n",
       "50%                     0.000000            8.549000e+03             0.600000   \n",
       "75%                     0.000000            1.952100e+04             0.840000   \n",
       "max                    20.000000            1.435667e+06             5.950000   \n",
       "\n",
       "       AvailableBankcardCredit    TotalTrades  \\\n",
       "count            106393.000000  106393.000000   \n",
       "mean              11210.225447      23.230034   \n",
       "std               19818.361309      11.871311   \n",
       "min                   0.000000       0.000000   \n",
       "25%                 880.000000      15.000000   \n",
       "50%                4100.000000      22.000000   \n",
       "75%               13180.000000      30.000000   \n",
       "max              646285.000000     126.000000   \n",
       "\n",
       "       TradesNeverDelinquent (percentage)  TradesOpenedLast6Months  \\\n",
       "count                       106393.000000            106393.000000   \n",
       "mean                             0.885897                 0.802327   \n",
       "std                              0.148179                 1.097637   \n",
       "min                              0.000000                 0.000000   \n",
       "25%                              0.820000                 0.000000   \n",
       "50%                              0.940000                 0.000000   \n",
       "75%                              1.000000                 1.000000   \n",
       "max                              1.000000                20.000000   \n",
       "\n",
       "       DebtToIncomeRatio  StatedMonthlyIncome  TotalProsperLoans  \\\n",
       "count      105383.000000         1.139370e+05       22085.000000   \n",
       "mean            0.275947         5.608026e+03           1.421100   \n",
       "std             0.551759         7.478497e+03           0.764042   \n",
       "min             0.000000         0.000000e+00           0.000000   \n",
       "25%             0.140000         3.200333e+03           1.000000   \n",
       "50%             0.220000         4.666667e+03           1.000000   \n",
       "75%             0.320000         6.825000e+03           2.000000   \n",
       "max            10.010000         1.750003e+06           8.000000   \n",
       "\n",
       "       TotalProsperPaymentsBilled  OnTimeProsperPayments  \\\n",
       "count                22085.000000           22085.000000   \n",
       "mean                    22.934345              22.271949   \n",
       "std                     19.249584              18.830425   \n",
       "min                      0.000000               0.000000   \n",
       "25%                      9.000000               9.000000   \n",
       "50%                     16.000000              15.000000   \n",
       "75%                     33.000000              32.000000   \n",
       "max                    141.000000             141.000000   \n",
       "\n",
       "       ProsperPaymentsLessThanOneMonthLate  ProsperPaymentsOneMonthPlusLate  \\\n",
       "count                         22085.000000                     22085.000000   \n",
       "mean                              0.613629                         0.048540   \n",
       "std                               2.446827                         0.556285   \n",
       "min                               0.000000                         0.000000   \n",
       "25%                               0.000000                         0.000000   \n",
       "50%                               0.000000                         0.000000   \n",
       "75%                               0.000000                         0.000000   \n",
       "max                              42.000000                        21.000000   \n",
       "\n",
       "       ProsperPrincipalBorrowed  ProsperPrincipalOutstanding  \\\n",
       "count              22085.000000                 22085.000000   \n",
       "mean                8472.311961                  2930.313906   \n",
       "std                 7395.507650                  3806.635075   \n",
       "min                    0.000000                     0.000000   \n",
       "25%                 3500.000000                     0.000000   \n",
       "50%                 6000.000000                  1626.550000   \n",
       "75%                11000.000000                  4126.720000   \n",
       "max                72499.000000                 23450.950000   \n",
       "\n",
       "       ScorexChangeAtTimeOfListing  LoanCurrentDaysDelinquent  \\\n",
       "count                 18928.000000              113937.000000   \n",
       "mean                     -3.223214                 152.816539   \n",
       "std                      50.063567                 466.320254   \n",
       "min                    -209.000000                   0.000000   \n",
       "25%                     -35.000000                   0.000000   \n",
       "50%                      -3.000000                   0.000000   \n",
       "75%                      25.000000                   0.000000   \n",
       "max                     286.000000                2704.000000   \n",
       "\n",
       "       LoanFirstDefaultedCycleNumber  LoanMonthsSinceOrigination  \\\n",
       "count                   16952.000000               113937.000000   \n",
       "mean                       16.268464                   31.896882   \n",
       "std                         9.005898                   29.974184   \n",
       "min                         0.000000                    0.000000   \n",
       "25%                         9.000000                    6.000000   \n",
       "50%                        14.000000                   21.000000   \n",
       "75%                        22.000000                   65.000000   \n",
       "max                        44.000000                  100.000000   \n",
       "\n",
       "          LoanNumber  LoanOriginalAmount  MonthlyLoanPayment  \\\n",
       "count  113937.000000        113937.00000       113937.000000   \n",
       "mean    69444.474271          8337.01385          272.475783   \n",
       "std     38930.479610          6245.80058          192.697812   \n",
       "min         1.000000          1000.00000            0.000000   \n",
       "25%     37332.000000          4000.00000          131.620000   \n",
       "50%     68599.000000          6500.00000          217.740000   \n",
       "75%    101901.000000         12000.00000          371.580000   \n",
       "max    136486.000000         35000.00000         2251.510000   \n",
       "\n",
       "       LP_CustomerPayments  LP_CustomerPrincipalPayments  LP_InterestandFees  \\\n",
       "count        113937.000000                 113937.000000       113937.000000   \n",
       "mean           4183.079489                   3105.536588         1077.542901   \n",
       "std            4790.907234                   4069.527670         1183.414168   \n",
       "min              -2.349900                      0.000000           -2.349900   \n",
       "25%            1005.760000                    500.890000          274.870000   \n",
       "50%            2583.830000                   1587.500000          700.840100   \n",
       "75%            5548.400000                   4000.000000         1458.540000   \n",
       "max           40702.390000                  35000.000000        15617.030000   \n",
       "\n",
       "       LP_ServiceFees  LP_CollectionFees  LP_GrossPrincipalLoss  \\\n",
       "count   113937.000000      113937.000000          113937.000000   \n",
       "mean       -54.725641         -14.242698             700.446342   \n",
       "std         60.675425         109.232758            2388.513831   \n",
       "min       -664.870000       -9274.750000             -94.200000   \n",
       "25%        -73.180000           0.000000               0.000000   \n",
       "50%        -34.440000           0.000000               0.000000   \n",
       "75%        -13.920000           0.000000               0.000000   \n",
       "max         32.060000           0.000000           25000.000000   \n",
       "\n",
       "       LP_NetPrincipalLoss  LP_NonPrincipalRecoverypayments  PercentFunded  \\\n",
       "count        113937.000000                    113937.000000  113937.000000   \n",
       "mean            681.420499                        25.142686       0.998584   \n",
       "std            2357.167068                       275.657937       0.017919   \n",
       "min            -954.550000                         0.000000       0.700000   \n",
       "25%               0.000000                         0.000000       1.000000   \n",
       "50%               0.000000                         0.000000       1.000000   \n",
       "75%               0.000000                         0.000000       1.000000   \n",
       "max           25000.000000                     21117.900000       1.012500   \n",
       "\n",
       "       Recommendations  InvestmentFromFriendsCount  \\\n",
       "count    113937.000000               113937.000000   \n",
       "mean          0.048027                    0.023460   \n",
       "std           0.332353                    0.232412   \n",
       "min           0.000000                    0.000000   \n",
       "25%           0.000000                    0.000000   \n",
       "50%           0.000000                    0.000000   \n",
       "75%           0.000000                    0.000000   \n",
       "max          39.000000                   33.000000   \n",
       "\n",
       "       InvestmentFromFriendsAmount      Investors  \n",
       "count                113937.000000  113937.000000  \n",
       "mean                     16.550751      80.475228  \n",
       "std                     294.545422     103.239020  \n",
       "min                       0.000000       1.000000  \n",
       "25%                       0.000000       2.000000  \n",
       "50%                       0.000000      44.000000  \n",
       "75%                       0.000000     115.000000  \n",
       "max                   25000.000000    1189.000000  "
      ]
     },
     "execution_count": 18,
     "metadata": {},
     "output_type": "execute_result"
    }
   ],
   "source": [
    "#Statistical description of the dataset\n",
    "\n",
    "loan.describe()"
   ]
  },
  {
   "cell_type": "code",
   "execution_count": 19,
   "metadata": {},
   "outputs": [],
   "source": [
    "loan_drop = ['Listingkey', 'ProsperRating']"
   ]
  },
  {
   "cell_type": "code",
   "execution_count": 20,
   "metadata": {},
   "outputs": [
    {
     "data": {
      "text/html": [
       "<div>\n",
       "<style scoped>\n",
       "    .dataframe tbody tr th:only-of-type {\n",
       "        vertical-align: middle;\n",
       "    }\n",
       "\n",
       "    .dataframe tbody tr th {\n",
       "        vertical-align: top;\n",
       "    }\n",
       "\n",
       "    .dataframe thead th {\n",
       "        text-align: right;\n",
       "    }\n",
       "</style>\n",
       "<table border=\"1\" class=\"dataframe\">\n",
       "  <thead>\n",
       "    <tr style=\"text-align: right;\">\n",
       "      <th></th>\n",
       "      <th>LoanOriginalAmount</th>\n",
       "      <th>Term</th>\n",
       "    </tr>\n",
       "  </thead>\n",
       "  <tbody>\n",
       "    <tr>\n",
       "      <th>count</th>\n",
       "      <td>113937.00000</td>\n",
       "      <td>113937.000000</td>\n",
       "    </tr>\n",
       "    <tr>\n",
       "      <th>mean</th>\n",
       "      <td>8337.01385</td>\n",
       "      <td>40.830248</td>\n",
       "    </tr>\n",
       "    <tr>\n",
       "      <th>std</th>\n",
       "      <td>6245.80058</td>\n",
       "      <td>10.436212</td>\n",
       "    </tr>\n",
       "    <tr>\n",
       "      <th>min</th>\n",
       "      <td>1000.00000</td>\n",
       "      <td>12.000000</td>\n",
       "    </tr>\n",
       "    <tr>\n",
       "      <th>25%</th>\n",
       "      <td>4000.00000</td>\n",
       "      <td>36.000000</td>\n",
       "    </tr>\n",
       "    <tr>\n",
       "      <th>50%</th>\n",
       "      <td>6500.00000</td>\n",
       "      <td>36.000000</td>\n",
       "    </tr>\n",
       "    <tr>\n",
       "      <th>75%</th>\n",
       "      <td>12000.00000</td>\n",
       "      <td>36.000000</td>\n",
       "    </tr>\n",
       "    <tr>\n",
       "      <th>max</th>\n",
       "      <td>35000.00000</td>\n",
       "      <td>60.000000</td>\n",
       "    </tr>\n",
       "  </tbody>\n",
       "</table>\n",
       "</div>"
      ],
      "text/plain": [
       "       LoanOriginalAmount           Term\n",
       "count        113937.00000  113937.000000\n",
       "mean           8337.01385      40.830248\n",
       "std            6245.80058      10.436212\n",
       "min            1000.00000      12.000000\n",
       "25%            4000.00000      36.000000\n",
       "50%            6500.00000      36.000000\n",
       "75%           12000.00000      36.000000\n",
       "max           35000.00000      60.000000"
      ]
     },
     "execution_count": 20,
     "metadata": {},
     "output_type": "execute_result"
    }
   ],
   "source": [
    "loan[['LoanOriginalAmount', 'Term']].describe()"
   ]
  },
  {
   "cell_type": "markdown",
   "metadata": {},
   "source": [
    "### What is the structure of your dataset?\n",
    "\n",
    "> The dataset has 113937 different loan records and 81 information for each loan record (i.e 113,937 rows and 81 columns)\n",
    "\n",
    "### What is/are the main feature(s) of interest in your dataset?\n",
    "\n",
    "> The following features are of interest to me as a businessman becuase I want to be certian that I will get back my capital with good interest;\n",
    "> 1. LoanStatus - The current status of the loan: Cancelled,  Chargedoff, Completed, Current, Defaulted, FinalPaymentInProgress, PastDue. The PastDue status will be accompanied by a delinquency bucket.\n",
    "> 2. EstimatedReturn - The estimated return assigned to the listing at the time it was created. Estimated return is the difference between the Estimated Effective Yield and the Estimated Loss Rate. Applicable for loans originated after July 2009.\n",
    "\n",
    "### What features in the dataset do you think will help support your investigation into your feature(s) of interest?\n",
    "\n",
    "I believe the following dependent features will support investigation into my areas of interest;\n",
    "\n",
    "1. Term - The length of the loan expressed in months.\n",
    "2. LoanStatus\tThe current status of the loan: Cancelled,  Chargedoff, Completed, Current, Defaulted, FinalPaymentInProgress, PastDue. The PastDue status will be accompanied by a delinquency bucket..\n",
    "3. BorrowerRate - The Borrower's interest rate for this loan.\n",
    "4. EmploymentStatus - The employment status of the borrower at the time they posted the listing.\n",
    "5. StatedMonthlyIncome - The monthly income the borrower stated at the time the listing was created.\n",
    "6. ProsperScore - A custom risk score built using historical Prosper data. The score ranges from 1-10, with 10 being the best, or lowest risk score.  Applicable for loans originated after July 2009.\n",
    "7. TotalProsperLoans - Number of Prosper loans the borrower at the time they created this listing. This value will be null if the borrower had no prior loans. \n",
    "8. BorrowerAPR - The Borrower's Annual Percentage Rate (APR) for the loan.\n",
    "9. IncomeRange - The income range of the borrower at the time the listing was created.\n",
    "10. ProsperRating (Alpha) - The Prosper Rating assigned at the time the listing was created between AA - HR.  Applicable for loans originated after July 2009.\n",
    "11. LoanOriginalAmount - The origination amount of the loan.\n",
    "12. EstimatedReturn - The estimated return assigned to the listing at the time it was created. Estimated return is the difference between the Estimated Effective Yield and the Estimated Loss Rate. Applicable for loans originated after July 2009."
   ]
  },
  {
   "cell_type": "markdown",
   "metadata": {},
   "source": [
    "#### Before i start exploration, i will like to capitalize all the column headers for easy data entry\n",
    "\n"
   ]
  },
  {
   "cell_type": "code",
   "execution_count": 21,
   "metadata": {},
   "outputs": [
    {
     "data": {
      "text/plain": [
       "Index(['Listingkey', 'Listingnumber', 'Listingcreationdate', 'Creditgrade',\n",
       "       'Term', 'Loanstatus', 'Closeddate', 'Borrowerapr', 'Borrowerrate',\n",
       "       'Lenderyield', 'Estimatedeffectiveyield', 'Estimatedloss',\n",
       "       'Estimatedreturn', 'Prosperrating (numeric)', 'Prosperrating (alpha)',\n",
       "       'Prosperscore', 'Listingcategory (numeric)', 'Borrowerstate',\n",
       "       'Occupation', 'Employmentstatus', 'Employmentstatusduration',\n",
       "       'Isborrowerhomeowner', 'Currentlyingroup', 'Groupkey',\n",
       "       'Datecreditpulled', 'Creditscorerangelower', 'Creditscorerangeupper',\n",
       "       'Firstrecordedcreditline', 'Currentcreditlines', 'Opencreditlines',\n",
       "       'Totalcreditlinespast7years', 'Openrevolvingaccounts',\n",
       "       'Openrevolvingmonthlypayment', 'Inquirieslast6months', 'Totalinquiries',\n",
       "       'Currentdelinquencies', 'Amountdelinquent', 'Delinquencieslast7years',\n",
       "       'Publicrecordslast10years', 'Publicrecordslast12months',\n",
       "       'Revolvingcreditbalance', 'Bankcardutilization',\n",
       "       'Availablebankcardcredit', 'Totaltrades',\n",
       "       'Tradesneverdelinquent (percentage)', 'Tradesopenedlast6months',\n",
       "       'Debttoincomeratio', 'Incomerange', 'Incomeverifiable',\n",
       "       'Statedmonthlyincome', 'Loankey', 'Totalprosperloans',\n",
       "       'Totalprosperpaymentsbilled', 'Ontimeprosperpayments',\n",
       "       'Prosperpaymentslessthanonemonthlate',\n",
       "       'Prosperpaymentsonemonthpluslate', 'Prosperprincipalborrowed',\n",
       "       'Prosperprincipaloutstanding', 'Scorexchangeattimeoflisting',\n",
       "       'Loancurrentdaysdelinquent', 'Loanfirstdefaultedcyclenumber',\n",
       "       'Loanmonthssinceorigination', 'Loannumber', 'Loanoriginalamount',\n",
       "       'Loanoriginationdate', 'Loanoriginationquarter', 'Memberkey',\n",
       "       'Monthlyloanpayment', 'Lp_customerpayments',\n",
       "       'Lp_customerprincipalpayments', 'Lp_interestandfees', 'Lp_servicefees',\n",
       "       'Lp_collectionfees', 'Lp_grossprincipalloss', 'Lp_netprincipalloss',\n",
       "       'Lp_nonprincipalrecoverypayments', 'Percentfunded', 'Recommendations',\n",
       "       'Investmentfromfriendscount', 'Investmentfromfriendsamount',\n",
       "       'Investors'],\n",
       "      dtype='object')"
      ]
     },
     "execution_count": 21,
     "metadata": {},
     "output_type": "execute_result"
    }
   ],
   "source": [
    "# Column headers capitalization\n",
    "\n",
    "loan.columns = loan.columns.str.capitalize()\n",
    "loan.columns"
   ]
  },
  {
   "cell_type": "markdown",
   "metadata": {},
   "source": [
    "## Univariate Exploration\n",
    "> In this section, individual assessment of some of the features will be done to give an insight of the data set. Additional assessment on any variable that requires further exploration will be done"
   ]
  },
  {
   "cell_type": "markdown",
   "metadata": {},
   "source": [
    "### 1. Term"
   ]
  },
  {
   "cell_type": "code",
   "execution_count": 22,
   "metadata": {},
   "outputs": [
    {
     "name": "stdout",
     "output_type": "stream",
     "text": [
      "[36 60 12]\n"
     ]
    },
    {
     "data": {
      "text/plain": [
       "count    113937.000000\n",
       "mean         40.830248\n",
       "std          10.436212\n",
       "min          12.000000\n",
       "25%          36.000000\n",
       "50%          36.000000\n",
       "75%          36.000000\n",
       "max          60.000000\n",
       "Name: Term, dtype: float64"
      ]
     },
     "execution_count": 22,
     "metadata": {},
     "output_type": "execute_result"
    }
   ],
   "source": [
    "#Statistical overview of the Term variable\n",
    "\n",
    "print(loan['Term'].unique())\n",
    "loan['Term'].describe()"
   ]
  },
  {
   "cell_type": "markdown",
   "metadata": {},
   "source": [
    "#### From the above, we can deduce that\n",
    "- The variable type is an integer and thus numerical\n",
    "- There are only 3 unique variables\n",
    "- A pie chart will be sufficient since there are only 3 unique variable\n",
    "\n",
    "> #### How is loan term distributed by month?"
   ]
  },
  {
   "cell_type": "code",
   "execution_count": 23,
   "metadata": {},
   "outputs": [
    {
     "data": {
      "image/png": "[encoded data removed]",
      "text/plain": [
       "<Figure size 432x288 with 1 Axes>"
      ]
     },
     "metadata": {},
     "output_type": "display_data"
    }
   ],
   "source": [
    "# Plotting a Pie Chart\n",
    "\n",
    "term_count = loan['Term'].value_counts()\n",
    "term_count_index = loan['Term'].value_counts().index\n",
    "\n",
    "plt.pie(term_count, labels = term_count_index, startangle = 90, counterclock = False)\n",
    "plt.title('Pie Chart of loan Term')\n",
    "plt.axis('square');"
   ]
  },
  {
   "cell_type": "markdown",
   "metadata": {},
   "source": [
    "#### Observation: It evident that loan term of 36 months has the highest frequency (more than 75% of total loan term) followed by 60 months loan and the least is 12 months loan term"
   ]
  },
  {
   "cell_type": "markdown",
   "metadata": {},
   "source": [
    "### 2. Loan status\n",
    "\n"
   ]
  },
  {
   "cell_type": "code",
   "execution_count": 24,
   "metadata": {},
   "outputs": [
    {
     "data": {
      "text/plain": [
       "array(['Completed', 'Current', 'Past Due (1-15 days)', 'Defaulted',\n",
       "       'Chargedoff', 'Past Due (16-30 days)', 'Cancelled',\n",
       "       'Past Due (61-90 days)', 'Past Due (31-60 days)',\n",
       "       'Past Due (91-120 days)', 'FinalPaymentInProgress',\n",
       "       'Past Due (>120 days)'], dtype=object)"
      ]
     },
     "execution_count": 24,
     "metadata": {},
     "output_type": "execute_result"
    }
   ],
   "source": [
    "# Investigating the unique categories\n",
    "\n",
    "loan['Loanstatus'].unique()"
   ]
  },
  {
   "cell_type": "markdown",
   "metadata": {},
   "source": [
    "#### From the above, we can deduce the following;\n",
    "- The variable is categorical\n",
    "- Variable is in the apropriate data type (object)\n",
    "- A horizontal bar chart will be apropritate to visualize the variable\n",
    "- Multiple category for Past Due values. To lump everything into one for easy classification\n",
    "\n",
    "> #### How is loan status distributed?"
   ]
  },
  {
   "cell_type": "code",
   "execution_count": 25,
   "metadata": {},
   "outputs": [
    {
     "data": {
      "text/plain": [
       "array(['Completed', 'Current', 'Pastdue', 'Defaulted', 'Chargedoff',\n",
       "       'Cancelled', 'Finalpayment'], dtype=object)"
      ]
     },
     "execution_count": 25,
     "metadata": {},
     "output_type": "execute_result"
    }
   ],
   "source": [
    "# Lump all past due categories into one being 'Pastdue'\n",
    "# Replace FinalPaymentInProgress\n",
    "\n",
    "loan['Loanstatus'] = loan['Loanstatus'].replace(['Past Due (1-15 days)', 'Past Due (16-30 days)',\n",
    "                                                 'Past Due (61-90 days)', 'Past Due (31-60 days)',\n",
    "                                                 'Past Due (91-120 days)', 'Past Due (>120 days)'],\n",
    "                                                'Pastdue').str.replace('FinalPaymentInProgress', 'Finalpayment')\n",
    "loan['Loanstatus'].unique()"
   ]
  },
  {
   "cell_type": "code",
   "execution_count": 26,
   "metadata": {},
   "outputs": [
    {
     "data": {
      "text/plain": [
       "Text(0.5, 1.0, 'A horizontal barchart depicting the Loan Status')"
      ]
     },
     "execution_count": 26,
     "metadata": {},
     "output_type": "execute_result"
    },
    {
     "data": {
      "image/png": "[encoded data removed]",
      "text/plain": [
       "<Figure size 576x360 with 1 Axes>"
      ]
     },
     "metadata": {
      "needs_background": "light"
     },
     "output_type": "display_data"
    }
   ],
   "source": [
    "# plotting a horizontal barchart\n",
    "\n",
    "plt.figure(figsize = [8,5])\n",
    "color_base = sb.color_palette()[0]\n",
    "\n",
    "# Ordering the bars in decreasing order\n",
    "orders = loan['Loanstatus'].value_counts().index\n",
    "sb.countplot(data = loan, y = 'Loanstatus', color = color_base, order = orders);\n",
    "\n",
    "# Scale Transformation\n",
    "plt.xscale('log')\n",
    "ticks = [10, 100, 1000, 10000]\n",
    "label = ['{}'.format (v) for v in ticks]\n",
    "plt.xticks(ticks, label)\n",
    "\n",
    "# Labelling the chart\n",
    "plt.xlabel('Count')\n",
    "plt.ylabel('Loanstatus')\n",
    "plt.title('A horizontal barchart depicting the Loan Status')\n"
   ]
  },
  {
   "cell_type": "markdown",
   "metadata": {},
   "source": [
    "#### Observation: The current loan status has the highest frequency while cancelled loans are the least"
   ]
  },
  {
   "cell_type": "markdown",
   "metadata": {},
   "source": [
    "### 3. Borrower Rate\n"
   ]
  },
  {
   "cell_type": "code",
   "execution_count": 27,
   "metadata": {},
   "outputs": [
    {
     "name": "stdout",
     "output_type": "stream",
     "text": [
      "2294\n",
      "count    113937.000000\n",
      "mean          0.192764\n",
      "std           0.074818\n",
      "min           0.000000\n",
      "25%           0.134000\n",
      "50%           0.184000\n",
      "75%           0.250000\n",
      "max           0.497500\n",
      "Name: Borrowerrate, dtype: float64\n"
     ]
    },
    {
     "data": {
      "text/plain": [
       "0.3177    3672\n",
       "0.3500    1905\n",
       "0.3199    1651\n",
       "0.2900    1508\n",
       "0.2699    1319\n",
       "          ... \n",
       "0.2201       1\n",
       "0.0752       1\n",
       "0.1416       1\n",
       "0.2812       1\n",
       "0.0739       1\n",
       "Name: Borrowerrate, Length: 2294, dtype: int64"
      ]
     },
     "execution_count": 27,
     "metadata": {},
     "output_type": "execute_result"
    }
   ],
   "source": [
    "# Highlevel overview of the variable\n",
    "\n",
    "print(loan['Borrowerrate'].nunique())\n",
    "print(loan['Borrowerrate'].describe())\n",
    "loan['Borrowerrate'].value_counts()"
   ]
  },
  {
   "cell_type": "markdown",
   "metadata": {},
   "source": [
    "#### The overview has guided us to have the following understanding;\n",
    "- There 2,294 unique values\n",
    "- The variable is numerical and a continuous type\n",
    "- A histogram will be a good exploration tool for this variable\n",
    "- No outlier is seen in the variable\n",
    "\n",
    "> #### How does the borrower rate distribution look like?"
   ]
  },
  {
   "cell_type": "code",
   "execution_count": 28,
   "metadata": {},
   "outputs": [
    {
     "data": {
      "image/png": "[encoded data removed]",
      "text/plain": [
       "<Figure size 576x360 with 1 Axes>"
      ]
     },
     "metadata": {
      "needs_background": "light"
     },
     "output_type": "display_data"
    }
   ],
   "source": [
    "bin2 = np.arange(0, loan['Borrowerrate'].max()+0.005, 0.005)\n",
    "\n",
    "plt.figure(figsize = [8, 5])\n",
    "\n",
    "plt.hist(data = loan, x = 'Borrowerrate', bins = bin2);\n",
    "plt.xlabel('Borrower Rate')\n",
    "plt.ylabel('Count');\n",
    "plt.title('Distribution of Borrower Rate')\n",
    "plt.xlim(0.05, 0.36);"
   ]
  },
  {
   "cell_type": "markdown",
   "metadata": {},
   "source": [
    "#### Observation: The distribution is bimodial with a major peak around 0.32"
   ]
  },
  {
   "cell_type": "markdown",
   "metadata": {},
   "source": [
    "### 4. Employment Status\n",
    "\n"
   ]
  },
  {
   "cell_type": "code",
   "execution_count": 29,
   "metadata": {},
   "outputs": [
    {
     "data": {
      "text/plain": [
       "array(['Self-employed', 'Employed', 'Not available', 'Full-time', 'Other',\n",
       "       nan, 'Not employed', 'Part-time', 'Retired'], dtype=object)"
      ]
     },
     "execution_count": 29,
     "metadata": {},
     "output_type": "execute_result"
    }
   ],
   "source": [
    "# Overview of key details of the variable\n",
    "\n",
    "loan['Employmentstatus'].unique()"
   ]
  },
  {
   "cell_type": "markdown",
   "metadata": {},
   "source": [
    "#### The above shows that;\n",
    "- The variable is categorical\n",
    "- A bar chart will be sufficient for data exploration\n",
    "\n",
    "> #### How does the total loan per employment status distribution look like?"
   ]
  },
  {
   "cell_type": "code",
   "execution_count": 30,
   "metadata": {},
   "outputs": [
    {
     "data": {
      "image/png": "[encoded data removed]",
      "text/plain": [
       "<Figure size 576x360 with 1 Axes>"
      ]
     },
     "metadata": {
      "needs_background": "light"
     },
     "output_type": "display_data"
    }
   ],
   "source": [
    "# Plotting the bar\n",
    "\n",
    "plt.figure(figsize = [8, 5])\n",
    "\n",
    "base_color = sb.color_palette()[0]\n",
    "\n",
    "orders = loan['Employmentstatus'].value_counts().index\n",
    "\n",
    "sb.countplot(data = loan, x = 'Employmentstatus', color = base_color, order = orders);\n",
    "plt.xlabel('EmploymentStatus')\n",
    "plt.xticks(rotation = 45)\n",
    "plt.title('A bar chart depicting Employmentstatus');"
   ]
  },
  {
   "cell_type": "markdown",
   "metadata": {},
   "source": [
    "#### Observation: Loans from employed people have the highest frequency with over 65,000 counts followed by full-time and the least is from those that have retired."
   ]
  },
  {
   "cell_type": "markdown",
   "metadata": {},
   "source": [
    "### 5. Stated Monthly Income\n",
    "\n"
   ]
  },
  {
   "cell_type": "code",
   "execution_count": 31,
   "metadata": {
    "scrolled": true
   },
   "outputs": [
    {
     "data": {
      "text/plain": [
       "count    1.139370e+05\n",
       "mean     5.608026e+03\n",
       "std      7.478497e+03\n",
       "min      0.000000e+00\n",
       "25%      3.200333e+03\n",
       "50%      4.666667e+03\n",
       "75%      6.825000e+03\n",
       "max      1.750003e+06\n",
       "Name: Statedmonthlyincome, dtype: float64"
      ]
     },
     "execution_count": 31,
     "metadata": {},
     "output_type": "execute_result"
    }
   ],
   "source": [
    "# Taking a statistical overview of the feature\n",
    "\n",
    "loan.Statedmonthlyincome.describe()"
   ]
  },
  {
   "cell_type": "markdown",
   "metadata": {},
   "source": [
    "#### The following can be deduced from the above statistical overview\n",
    "- The feature is numerical and data type is float\n",
    "- The max value appears to be an outlier\n",
    "- A histogram will be an appropriate exploration technique because of the wide data distribution\n",
    "\n",
    "> #### How does the Stated Monthly Income distribution look like?"
   ]
  },
  {
   "cell_type": "code",
   "execution_count": 32,
   "metadata": {
    "scrolled": false
   },
   "outputs": [
    {
     "data": {
      "text/plain": [
       "count    1.139370e+05\n",
       "mean     5.608026e+03\n",
       "std      7.478497e+03\n",
       "min      0.000000e+00\n",
       "25%      3.200333e+03\n",
       "50%      4.666667e+03\n",
       "75%      6.825000e+03\n",
       "max      1.750003e+06\n",
       "Name: Statedmonthlyincome, dtype: float64"
      ]
     },
     "execution_count": 32,
     "metadata": {},
     "output_type": "execute_result"
    }
   ],
   "source": [
    "# Getting the statistical distribution\n",
    "\n",
    "loan['Statedmonthlyincome'].describe()"
   ]
  },
  {
   "cell_type": "code",
   "execution_count": 33,
   "metadata": {},
   "outputs": [
    {
     "data": {
      "image/png": "[encoded data removed]",
      "text/plain": [
       "<Figure size 360x360 with 1 Axes>"
      ]
     },
     "metadata": {
      "needs_background": "light"
     },
     "output_type": "display_data"
    }
   ],
   "source": [
    "# Creating the bins\n",
    "bin_edges = np.arange(0, loan['Statedmonthlyincome'].max()+1000, 1000)\n",
    "\n",
    "# plotting the hisytogram\n",
    "sb.displot(data = loan, x = 'Statedmonthlyincome', bins = bin_edges);"
   ]
  },
  {
   "cell_type": "markdown",
   "metadata": {},
   "source": [
    "#### The above histogram does not give any useful information due to the impact of the maximum value which is an outlier. This will be addressed by taking a log transformation of the scale as shown below.\n",
    "\n",
    "#### Log Transformation"
   ]
  },
  {
   "cell_type": "code",
   "execution_count": 34,
   "metadata": {
    "scrolled": false
   },
   "outputs": [
    {
     "name": "stderr",
     "output_type": "stream",
     "text": [
      "C:\\Users\\Azuka Ume\\AppData\\Local\\Temp\\ipykernel_8036\\48674136.py:9: UserWarning: Attempted to set non-positive left xlim on a log-scaled axis.\n",
      "Invalid limit will be ignored.\n",
      "  plt.xlim(0, 50000);\n"
     ]
    },
    {
     "data": {
      "image/png": "[encoded data removed]",
      "text/plain": [
       "<Figure size 360x360 with 1 Axes>"
      ]
     },
     "metadata": {
      "needs_background": "light"
     },
     "output_type": "display_data"
    }
   ],
   "source": [
    "sb.displot(data = loan, x = 'Statedmonthlyincome', bins = 1000)\n",
    "\n",
    "plt.xscale('log');\n",
    "\n",
    "ticks = [0, 10, 100, 1000, 10000, ]\n",
    "\n",
    "plt.xticks(ticks)\n",
    "\n",
    "plt.xlim(0, 50000);"
   ]
  },
  {
   "cell_type": "markdown",
   "metadata": {},
   "source": [
    "#### Observations: The stated monthly income distribution is skewed to the right. It can be said that the mean and median distributions are to the right"
   ]
  },
  {
   "cell_type": "markdown",
   "metadata": {},
   "source": [
    "### 6. Prosper Score"
   ]
  },
  {
   "cell_type": "code",
   "execution_count": 35,
   "metadata": {
    "scrolled": true
   },
   "outputs": [
    {
     "name": "stdout",
     "output_type": "stream",
     "text": [
      "[nan  7.  9.  4. 10.  2. 11.  8.  5.  3.  6.  1.]\n",
      "11\n",
      "float64\n"
     ]
    }
   ],
   "source": [
    "# Assessing the Prosper score with different assessment tools\n",
    "\n",
    "print(loan.Prosperscore.unique())\n",
    "\n",
    "print(loan.Prosperscore.nunique())\n",
    "\n",
    "print(loan.Prosperscore.dtype)"
   ]
  },
  {
   "cell_type": "markdown",
   "metadata": {},
   "source": [
    "#### From the above;\n",
    "- There are 11 uniques values. From the definition of Prosper Score, the rating is 1 - 10 meaning that the 11th rating isn't needed and will therefore be dropped.\n",
    "- The ratings are categorical but in float data type\n",
    "- A bar chart will be an appropriate exploration tool\n",
    "\n",
    "> #### How is the total loan distributed per Prosper Score?"
   ]
  },
  {
   "cell_type": "code",
   "execution_count": 36,
   "metadata": {
    "scrolled": false
   },
   "outputs": [
    {
     "data": {
      "image/png": "[encoded data removed]",
      "text/plain": [
       "<Figure size 576x360 with 1 Axes>"
      ]
     },
     "metadata": {
      "needs_background": "light"
     },
     "output_type": "display_data"
    }
   ],
   "source": [
    "#replacing the 11th rating with np.nan and dropping all null cell\n",
    "loan['Prosperscore'] = loan['Prosperscore'].replace(11, np.nan).dropna()\n",
    "\n",
    "#Plotting the histogram\n",
    "plt.figure(figsize = [8, 5])\n",
    "orders = loan['Prosperscore'].value_counts().index\n",
    "sb.countplot(data = loan, x = 'Prosperscore', order = orders, color = base_color);\n",
    "plt.title('A bar chart of Prosper Score');"
   ]
  },
  {
   "cell_type": "markdown",
   "metadata": {},
   "source": [
    "#### Observations:\n",
    "- A rating of 4.0 was the highest with followed very closely by 6.0 and 8.0 with all three ratings having counts = or > 12,000\n",
    "- The least rating is 1.0 with count less than 2000 loans"
   ]
  },
  {
   "cell_type": "markdown",
   "metadata": {},
   "source": [
    " ### 7. Total Prosper Loans"
   ]
  },
  {
   "cell_type": "code",
   "execution_count": 37,
   "metadata": {
    "scrolled": true
   },
   "outputs": [
    {
     "name": "stdout",
     "output_type": "stream",
     "text": [
      "[nan  1.  3.  2.  4.  6.  5.  8.  7.  0.]\n"
     ]
    },
    {
     "data": {
      "text/plain": [
       "count    22085.000000\n",
       "mean         1.421100\n",
       "std          0.764042\n",
       "min          0.000000\n",
       "25%          1.000000\n",
       "50%          1.000000\n",
       "75%          2.000000\n",
       "max          8.000000\n",
       "Name: Totalprosperloans, dtype: float64"
      ]
     },
     "execution_count": 37,
     "metadata": {},
     "output_type": "execute_result"
    }
   ],
   "source": [
    "# Overview of the Total Prosper Loan feature\n",
    "\n",
    "print(loan.Totalprosperloans.unique())\n",
    "\n",
    "loan.Totalprosperloans.describe()"
   ]
  },
  {
   "cell_type": "markdown",
   "metadata": {},
   "source": [
    "#### The above overview tells us that;\n",
    "\n",
    "- The values appear numerical but in reality, they are categorical since it's grouping of the number of loans at the time of listing\n",
    "- A bar chart will be an appropriate data exploration tool\n",
    "\n",
    " > #### What is the distribution of the Total Prosper Loans?"
   ]
  },
  {
   "cell_type": "code",
   "execution_count": 38,
   "metadata": {
    "scrolled": true
   },
   "outputs": [
    {
     "name": "stdout",
     "output_type": "stream",
     "text": [
      "[nan  1.  3.  2.  4.  6.  5.  8.  7.  0.]\n"
     ]
    },
    {
     "data": {
      "image/png": "[encoded data removed]",
      "text/plain": [
       "<Figure size 576x360 with 1 Axes>"
      ]
     },
     "metadata": {
      "needs_background": "light"
     },
     "output_type": "display_data"
    }
   ],
   "source": [
    "# Drop null rows\n",
    "loan['Totalprosperloans'] = loan['Totalprosperloans'].dropna()\n",
    "\n",
    "# Number of unique values\n",
    "print(loan['Totalprosperloans'].unique())\n",
    "\n",
    "# Sorting values in increasing order\n",
    "orders2 = loan['Totalprosperloans'].value_counts().index\n",
    "\n",
    "plt.figure(figsize = [8, 5])\n",
    "sb.countplot(data = loan, x = 'Totalprosperloans', order = orders2, color = base_color)\n",
    "plt.title('Bar chart of Total Prosper Loan');"
   ]
  },
  {
   "cell_type": "markdown",
   "metadata": {},
   "source": [
    "#### Observation: Borrowers with one (1) prosper loan had the highest frequency."
   ]
  },
  {
   "cell_type": "markdown",
   "metadata": {},
   "source": [
    "### 8. Borrower APR"
   ]
  },
  {
   "cell_type": "code",
   "execution_count": 39,
   "metadata": {},
   "outputs": [
    {
     "name": "stdout",
     "output_type": "stream",
     "text": [
      "6677\n",
      "count    113912.000000\n",
      "mean          0.218828\n",
      "std           0.080364\n",
      "min           0.006530\n",
      "25%           0.156290\n",
      "50%           0.209760\n",
      "75%           0.283810\n",
      "max           0.512290\n",
      "Name: Borrowerapr, dtype: float64\n"
     ]
    },
    {
     "data": {
      "text/plain": [
       "0.35797    3672\n",
       "0.35643    1644\n",
       "0.37453    1260\n",
       "0.30532     902\n",
       "0.29510     747\n",
       "           ... \n",
       "0.37266       1\n",
       "0.27518       1\n",
       "0.18477       1\n",
       "0.29961       1\n",
       "0.19543       1\n",
       "Name: Borrowerapr, Length: 6677, dtype: int64"
      ]
     },
     "execution_count": 39,
     "metadata": {},
     "output_type": "execute_result"
    }
   ],
   "source": [
    "# Statistical overview of the feature\n",
    "\n",
    "print(loan['Borrowerapr'].nunique())\n",
    "print(loan['Borrowerapr'].describe())\n",
    "loan['Borrowerapr'].value_counts()"
   ]
  },
  {
   "cell_type": "markdown",
   "metadata": {},
   "source": [
    "#### The statistical overview show that;\n",
    "\n",
    "- This is a numerical variable and it is an integer data type\n",
    "- The variable is a continuous variable and a histogram will be used to assess the distribution\n",
    "- Bins will be used to group the variables when plotting the histogram\n",
    "\n",
    "> #### What does the borrower APR distribution rate look like?"
   ]
  },
  {
   "cell_type": "code",
   "execution_count": 40,
   "metadata": {},
   "outputs": [
    {
     "data": {
      "text/plain": [
       "<Figure size 720x504 with 0 Axes>"
      ]
     },
     "metadata": {},
     "output_type": "display_data"
    },
    {
     "data": {
      "image/png": "[encoded data removed]",
      "text/plain": [
       "<Figure size 360x360 with 1 Axes>"
      ]
     },
     "metadata": {
      "needs_background": "light"
     },
     "output_type": "display_data"
    }
   ],
   "source": [
    "# Plotting the histogram\n",
    "\n",
    "plt.figure(figsize = [10, 7])\n",
    "\n",
    "bin = np.arange(0, loan['Borrowerapr'].max()+0.01, 0.01)\n",
    "sb.displot(data = loan, x = 'Borrowerapr', bins = bin);\n",
    "\n",
    "plt.xlabel('Borrower APR')\n",
    "plt.ylabel('Count')\n",
    "plt.title('Distribution of Borrower APR')\n",
    "\n",
    "plt.xlim(0.05, 0.42);"
   ]
  },
  {
   "cell_type": "markdown",
   "metadata": {},
   "source": [
    "#### Observation: The distribution is bimodial with the major peak around 0.35"
   ]
  },
  {
   "cell_type": "markdown",
   "metadata": {},
   "source": [
    "### 9. Income Range \n"
   ]
  },
  {
   "cell_type": "code",
   "execution_count": 41,
   "metadata": {},
   "outputs": [
    {
     "name": "stdout",
     "output_type": "stream",
     "text": [
      "8\n"
     ]
    },
    {
     "data": {
      "text/plain": [
       "$25,000-49,999    32192\n",
       "$50,000-74,999    31050\n",
       "$100,000+         17337\n",
       "$75,000-99,999    16916\n",
       "Not displayed      7741\n",
       "$1-24,999          7274\n",
       "Not employed        806\n",
       "$0                  621\n",
       "Name: Incomerange, dtype: int64"
      ]
     },
     "execution_count": 41,
     "metadata": {},
     "output_type": "execute_result"
    }
   ],
   "source": [
    "# Highlevel overview of the variable\n",
    "\n",
    "print(loan['Incomerange'].nunique())\n",
    "\n",
    "loan['Incomerange'].value_counts()"
   ]
  },
  {
   "cell_type": "markdown",
   "metadata": {},
   "source": [
    "#### The following can be deduced from the above;\n",
    "- There are 8 unique values\n",
    "- The variable is a string\n",
    "- There are 3 sets of values which are invalid. The values are 'Not displayed', 'Not employed' and '$0' which will be replaced with np.nan and then dropped\n",
    "- A bar chart will be used to visualize the distribution\n",
    "\n",
    "> #### What is the distribution of the loans per income range?"
   ]
  },
  {
   "cell_type": "code",
   "execution_count": 42,
   "metadata": {
    "scrolled": true
   },
   "outputs": [
    {
     "data": {
      "text/plain": [
       "$25,000-49,999    32192\n",
       "$50,000-74,999    31050\n",
       "$100,000+         17337\n",
       "$75,000-99,999    16916\n",
       "$1-24,999          7274\n",
       "Name: Incomerange, dtype: int64"
      ]
     },
     "execution_count": 42,
     "metadata": {},
     "output_type": "execute_result"
    }
   ],
   "source": [
    "# Replacing the invalid values\n",
    "\n",
    "loan['Incomerange'] = loan['Incomerange'].replace(['Not displayed', 'Not employed', '$0'], np.nan)\n",
    "loan['Incomerange'].value_counts()"
   ]
  },
  {
   "cell_type": "code",
   "execution_count": 43,
   "metadata": {
    "scrolled": true
   },
   "outputs": [
    {
     "data": {
      "image/png": "[encoded data removed]",
      "text/plain": [
       "<Figure size 432x288 with 1 Axes>"
      ]
     },
     "metadata": {
      "needs_background": "light"
     },
     "output_type": "display_data"
    }
   ],
   "source": [
    "#Plotting the bar chart\n",
    "\n",
    "sb.countplot(data = loan, x = 'Incomerange', color = base_color);\n",
    "plt.xticks(rotation = 45)\n",
    "plt.xlabel('Income Range ($)')\n",
    "plt.title('Bar Chart distribution of Income Range');"
   ]
  },
  {
   "cell_type": "markdown",
   "metadata": {},
   "source": [
    "#### Observations:\n",
    "- Income range $25k - $49.99K has the highest count. This is closely followed by $50k - $74.99k\n",
    "- The income range with the least count is $1 - $24.99k with count of about 7,000 loans"
   ]
  },
  {
   "cell_type": "markdown",
   "metadata": {},
   "source": [
    "### 10. Prosper Rating (alpha)\n"
   ]
  },
  {
   "cell_type": "code",
   "execution_count": 44,
   "metadata": {},
   "outputs": [
    {
     "name": "stdout",
     "output_type": "stream",
     "text": [
      "7\n",
      "[nan 'A' 'D' 'B' 'E' 'C' 'AA' 'HR']\n"
     ]
    }
   ],
   "source": [
    "# Overview of the feature\n",
    "\n",
    "print(loan['Prosperrating (alpha)'].nunique())\n",
    "\n",
    "print(loan['Prosperrating (alpha)'].unique())"
   ]
  },
  {
   "cell_type": "markdown",
   "metadata": {},
   "source": [
    "#### From the above overview, we can deduce that;\n",
    "- The feature is categorical\n",
    "- There are 7 unique categories\n",
    "- A bar chart will be an appropriate univariate tool\n",
    "- Presnece of null rows which we'd have to drop before exploration\n",
    "\n",
    "> #### How does the Prosper rating (alpha) distribution look like?"
   ]
  },
  {
   "cell_type": "code",
   "execution_count": 45,
   "metadata": {
    "scrolled": true
   },
   "outputs": [
    {
     "data": {
      "image/png": "[encoded data removed]",
      "text/plain": [
       "<Figure size 576x432 with 1 Axes>"
      ]
     },
     "metadata": {
      "needs_background": "light"
     },
     "output_type": "display_data"
    }
   ],
   "source": [
    "# Dropping null cells\n",
    "loan['Prosperrating (alpha)'].dropna()\n",
    "\n",
    "# Plotting the bar chart\n",
    "rating_cat = ['HR', 'E', 'D', 'C', 'B', 'A', 'AA']\n",
    "rating_classes = pd.api.types.CategoricalDtype(ordered = True, categories = rating_cat)\n",
    "loan['Prosperrating (alpha)'] = loan['Prosperrating (alpha)'].astype(rating_classes)\n",
    "\n",
    "plt.figure(figsize = [8, 6])\n",
    "\n",
    "sb.countplot(data = loan, x = 'Prosperrating (alpha)', color = base_color);\n",
    "plt.title('Distribution of Prosper Rating (alpha)');"
   ]
  },
  {
   "cell_type": "markdown",
   "metadata": {},
   "source": [
    "#### Observations:\n",
    "- The distribution is unimodal\n",
    "- Rating 'C' has the highest count while rating 'AA' has the least count"
   ]
  },
  {
   "cell_type": "markdown",
   "metadata": {},
   "source": [
    "### 11. Loan Original Amount\n"
   ]
  },
  {
   "cell_type": "code",
   "execution_count": 46,
   "metadata": {
    "scrolled": true
   },
   "outputs": [
    {
     "name": "stdout",
     "output_type": "stream",
     "text": [
      "2468\n",
      "count    113937.00000\n",
      "mean       8337.01385\n",
      "std        6245.80058\n",
      "min        1000.00000\n",
      "25%        4000.00000\n",
      "50%        6500.00000\n",
      "75%       12000.00000\n",
      "max       35000.00000\n",
      "Name: Loanoriginalamount, dtype: float64\n"
     ]
    }
   ],
   "source": [
    "# Overview of the feature\n",
    "\n",
    "print(loan['Loanoriginalamount'].nunique())\n",
    "\n",
    "print(loan['Loanoriginalamount'].describe())"
   ]
  },
  {
   "cell_type": "markdown",
   "metadata": {},
   "source": [
    "#### The above overview shows that;\n",
    "- The data is numerical and continuous\n",
    "- There are 2,468 unique values\n",
    "- A histogram will be an appropriate exploration tool for this feature\n",
    "- Bins will be created between the minimum and maximum values\n",
    "\n",
    "> #### What is the distribution of the loan original amount at the time of the listing?"
   ]
  },
  {
   "cell_type": "code",
   "execution_count": 47,
   "metadata": {
    "scrolled": true
   },
   "outputs": [
    {
     "data": {
      "image/png": "[encoded data removed]",
      "text/plain": [
       "<Figure size 576x432 with 1 Axes>"
      ]
     },
     "metadata": {
      "needs_background": "light"
     },
     "output_type": "display_data"
    }
   ],
   "source": [
    "# Plotting the histogram\n",
    "\n",
    "bin5 = np.arange(1000, loan['Loanoriginalamount'].max()+500, 500)\n",
    "\n",
    "plt.figure(figsize = [8, 6])\n",
    "\n",
    "plt.hist(data = loan, x = 'Loanoriginalamount', bins = bin5, color = base_color);\n",
    "plt.xlabel('Loan Original Amount')\n",
    "plt.ylabel('Count')\n",
    "plt.title('Distribution of Loan Original Amount');"
   ]
  },
  {
   "cell_type": "markdown",
   "metadata": {},
   "source": [
    "#### Onservations:\n",
    "- The distribution is multimodial with the highest peak between 2000 and 5000\n",
    "- Other major peaks were observed at 10,000 and 15,000 with lesser peaks at 20,000 and 25,000"
   ]
  },
  {
   "cell_type": "markdown",
   "metadata": {},
   "source": [
    "### 12. Estimated Return\n"
   ]
  },
  {
   "cell_type": "code",
   "execution_count": 48,
   "metadata": {
    "scrolled": false
   },
   "outputs": [
    {
     "name": "stdout",
     "output_type": "stream",
     "text": [
      "1476\n"
     ]
    },
    {
     "data": {
      "text/plain": [
       "count    84853.000000\n",
       "mean         0.096068\n",
       "std          0.030403\n",
       "min         -0.182700\n",
       "25%          0.074080\n",
       "50%          0.091700\n",
       "75%          0.116600\n",
       "max          0.283700\n",
       "Name: Estimatedreturn, dtype: float64"
      ]
     },
     "execution_count": 48,
     "metadata": {},
     "output_type": "execute_result"
    }
   ],
   "source": [
    "# High level overview\n",
    "\n",
    "print(loan['Estimatedreturn'].nunique())\n",
    "loan['Estimatedreturn'].describe()"
   ]
  },
  {
   "cell_type": "markdown",
   "metadata": {},
   "source": [
    "#### The above shows that;\n",
    "- The feature is numerical and continuous\n",
    "- A histogram will be appropriate for assessing the distribution\n",
    "\n",
    "> #### What does the Estimated return distribution look like?"
   ]
  },
  {
   "cell_type": "code",
   "execution_count": 49,
   "metadata": {
    "scrolled": false
   },
   "outputs": [
    {
     "data": {
      "image/png": "[encoded data removed]",
      "text/plain": [
       "<Figure size 576x360 with 1 Axes>"
      ]
     },
     "metadata": {
      "needs_background": "light"
     },
     "output_type": "display_data"
    }
   ],
   "source": [
    "#Plotting the Histogram\n",
    "\n",
    "bin6 = np.arange(loan['Estimatedreturn'].min(), loan['Estimatedreturn'].max()+0.01, 0.01)\n",
    "\n",
    "plt.figure(figsize = [8,5])\n",
    "plt.hist(data = loan, x = 'Estimatedreturn', bins = bin6);\n",
    "plt.xlabel('Estimated Return')\n",
    "plt.ylabel('Count')\n",
    "plt.title('Histogram of Estimated Return');\n"
   ]
  },
  {
   "cell_type": "code",
   "execution_count": 50,
   "metadata": {},
   "outputs": [
    {
     "data": {
      "image/png": "[encoded data removed]",
      "text/plain": [
       "<Figure size 576x360 with 1 Axes>"
      ]
     },
     "metadata": {
      "needs_background": "light"
     },
     "output_type": "display_data"
    }
   ],
   "source": [
    "# Count axis (Y Axis) tranformation for better exploration and clarity\n",
    "plt.figure(figsize = [8,5])\n",
    "plt.hist(data = loan, x = 'Estimatedreturn', bins = bin6);\n",
    "plt.xlabel('Estimated Return')\n",
    "plt.ylabel('Count')\n",
    "plt.title('Histogram of Estimated Return');\n",
    "plt.yscale('log');"
   ]
  },
  {
   "cell_type": "markdown",
   "metadata": {},
   "source": [
    "#### Observations:\n",
    "- The distribution is unimodal\n",
    "- The distribution is skewed to the left"
   ]
  },
  {
   "cell_type": "markdown",
   "metadata": {},
   "source": [
    "### Discuss the distribution(s) of your variable(s) of interest. Were there any unusual points? Did you need to perform any transformations?\n",
    ">1. Estimated Return - This variable is numerical and a histogram was used to assess the distibution. The initial plot was not clear and thus, a transformation was done on the y-axis for better exploration. There were presence of negative values which is not good for investment.\n",
    "\n",
    ">2. Loan Status - This variable is categorical and a bar chart was used for exploration. A significant portion of the loan were still active at the time of listing\n",
    "\n",
    "### Of the features you investigated, were there any unusual distributions? Did you perform any operations on the data to tidy, adjust, or change the form of the data? If so, why did you do this?\n",
    "\n",
    ">1. Income Range - This feature is categorical as the groupings were in ranges. The feature was specific about borrowers with earnings and 3 groups without earnings were present. These groups were replaced with np.nan to tidy the data set and they were eventually dropped\n",
    "\n",
    ">2. Prosper Score - The definition of the Prosper Score speaks to ratings 1 - 10. The data provided has ratings up to 11 which implies that the 11th ratings are not valid. These were dropped becuase they were not needed.\n",
    "\n",
    ">3. Stated Monthly Income - The variable is a continuous numerical variable with wide value distribution. A histogram was used to explore the data set but the presence of an outlier (the max value) distorted the initial plot. Further investigation meant that a log transformation was done on the x-axis"
   ]
  },
  {
   "cell_type": "markdown",
   "metadata": {},
   "source": [
    "## Bivariate Exploration\n",
    "> To start this section of the project, i will like to explore the pairwise correlation between features in the data. This will be done based on the types of data types"
   ]
  },
  {
   "cell_type": "markdown",
   "metadata": {},
   "source": [
    "### 1. QUANTITATIVE VS QUANTITATIVE"
   ]
  },
  {
   "cell_type": "markdown",
   "metadata": {},
   "source": [
    "#### A. Borrower APR vs Borrower Rate\n",
    "> What is the relationship between borrower apr and borrower rate?"
   ]
  },
  {
   "cell_type": "code",
   "execution_count": 51,
   "metadata": {
    "scrolled": true
   },
   "outputs": [
    {
     "data": {
      "image/png": "[encoded data removed]",
      "text/plain": [
       "<Figure size 504x360 with 1 Axes>"
      ]
     },
     "metadata": {
      "needs_background": "light"
     },
     "output_type": "display_data"
    }
   ],
   "source": [
    "plt.figure(figsize = [7,5])\n",
    "\n",
    "plt.scatter(data = loan, x = 'Borrowerrate', y = 'Borrowerapr');\n",
    "plt.xlabel('Borrwer Rate')\n",
    "plt.ylabel('Borrower APR')\n",
    "plt.title('A Scatter Plot of Borrower APR vs Borrowe Rate');"
   ]
  },
  {
   "cell_type": "markdown",
   "metadata": {},
   "source": [
    "#### Observations:\n",
    "- There is a direct relationship between borrower APR and borrower rate\n",
    "- Borrower rate increases as borrower apr increases"
   ]
  },
  {
   "cell_type": "markdown",
   "metadata": {},
   "source": [
    "#### B. Loan Original amount vs Borrower rate and Loan Original Amount vs Borrower APR\n",
    "> What is the relationship of loan original amount with borrower rate and borrower apr?"
   ]
  },
  {
   "cell_type": "code",
   "execution_count": 52,
   "metadata": {
    "scrolled": true
   },
   "outputs": [
    {
     "data": {
      "image/png": "[encoded data removed]",
      "text/plain": [
       "<Figure size 1440x360 with 2 Axes>"
      ]
     },
     "metadata": {
      "needs_background": "light"
     },
     "output_type": "display_data"
    }
   ],
   "source": [
    "plt.figure(figsize = [20, 5])\n",
    "\n",
    "plt.subplot(1, 2, 1)\n",
    "plt.scatter(data = loan, x = 'Borrowerrate', y = 'Loanoriginalamount');\n",
    "plt.xlabel('Borrower Rate')\n",
    "plt.ylabel('Loan Original Amount')\n",
    "plt.title('Scatter Plot of Loan Original Amount vs Borrower Rate');\n",
    "\n",
    "plt.subplot(1, 2, 2)\n",
    "sb.regplot(data = loan, x = 'Borrowerapr', y = 'Loanoriginalamount', x_jitter = 0.3, scatter_kws = {'alpha':1/20});\n",
    "plt.xlabel('Borrower APR')\n",
    "plt.ylabel('Loan Original Amount')\n",
    "plt.title('Scatter Plot of Loan Original Amount vs Borrower APR');"
   ]
  },
  {
   "cell_type": "markdown",
   "metadata": {},
   "source": [
    "#### Observations:\n",
    "- Loan Original Amount have similar relationship with both borrower rate and borrower APR\n",
    "- There is no clear ralationship betweem these variables with little insight particularly from Loan original amount and borrower rate.\n",
    "- The highest borrower rate 0f 0.5 was observed for loan amounts less than 5000. This loan data appears to be an outlier"
   ]
  },
  {
   "cell_type": "markdown",
   "metadata": {},
   "source": [
    "### Correlation of Key Numeric Variables\n",
    "> What is the relationship between Loanoriginalamount, Borrower apr, Borrower rate, Estimatedreturn and Stated monthly income?"
   ]
  },
  {
   "cell_type": "code",
   "execution_count": 53,
   "metadata": {
    "scrolled": true
   },
   "outputs": [
    {
     "data": {
      "image/png": "[encoded data removed]",
      "text/plain": [
       "<Figure size 576x360 with 2 Axes>"
      ]
     },
     "metadata": {
      "needs_background": "light"
     },
     "output_type": "display_data"
    }
   ],
   "source": [
    "numeric_var = ['Loanoriginalamount', 'Borrowerapr', 'Borrowerrate', 'Estimatedreturn', 'Statedmonthlyincome']\n",
    "\n",
    "# Correlation plot\n",
    "plt.figure(figsize = [8, 5])\n",
    "sb.heatmap(loan[numeric_var].corr(), annot = True, fmt = '.2f',\n",
    "          cmap = 'vlag_r', center = 0)\n",
    "plt.title('Correlation of Key Numeric Variables')\n",
    "plt.show()"
   ]
  },
  {
   "cell_type": "markdown",
   "metadata": {},
   "source": [
    "#### Observations:\n",
    "- A high and positive correlation is observed between Estimated return, borrower rate and borrower apr\n",
    "- A negative or low correlation was observed for loan original amount and stated monthly income across estimated return, borrowe rate and borrower apr"
   ]
  },
  {
   "cell_type": "markdown",
   "metadata": {},
   "source": [
    "### 2. QUANTITATIVE VS QUALITATIVE"
   ]
  },
  {
   "cell_type": "markdown",
   "metadata": {},
   "source": [
    "#### A. Loan Original Amount vs Term\n",
    "> What relationship exists between loan original amount and term?"
   ]
  },
  {
   "cell_type": "code",
   "execution_count": 54,
   "metadata": {},
   "outputs": [
    {
     "data": {
      "image/png": "[encoded data removed]",
      "text/plain": [
       "<Figure size 1440x504 with 2 Axes>"
      ]
     },
     "metadata": {
      "needs_background": "light"
     },
     "output_type": "display_data"
    }
   ],
   "source": [
    "\n",
    "\n",
    "plt.figure(figsize = [20, 7])\n",
    "\n",
    "\n",
    "plt.subplot(1, 2, 1)\n",
    "sb.boxplot(data = loan, x = 'Term', y = 'Loanoriginalamount', color = base_color, showfliers = False);\n",
    "plt.xlabel('Term (month)')\n",
    "plt.ylabel('Loan Original Amount')\n",
    "plt.title('Box Plot of Loan Original Amount vs Term');\n",
    "\n",
    "plt.subplot(1, 2, 2)\n",
    "sb.boxplot(data = loan, x = 'Incomerange', y = 'Loanoriginalamount', color = base_color, showfliers = False);\n",
    "plt.xlabel('Income Range')\n",
    "plt.ylabel('Loan Original Amount')\n",
    "plt.title('Box Plot of Loan Original Amount vs Income Range');"
   ]
  },
  {
   "cell_type": "markdown",
   "metadata": {},
   "source": [
    "#### Observations:\n",
    "- There is a clear relationship between loan original amount vs term and loan original amount vs Income Range\n",
    "- Loan original amount increased as the term of the loan increased\n",
    "- The median of loan original amount increased marginally from 12 to 36 months but a significant increase occured from 36 to 60 months.\n",
    "- The highest income range appeared to take the highest loan while the lowest income range had the least loan original amount"
   ]
  },
  {
   "cell_type": "markdown",
   "metadata": {},
   "source": [
    "### Estimated Return vs Prosper Score\n",
    "\n",
    "> What is the distribution of the estimated return across the various prosper score?"
   ]
  },
  {
   "cell_type": "code",
   "execution_count": 55,
   "metadata": {
    "scrolled": true
   },
   "outputs": [
    {
     "data": {
      "text/plain": [
       "<Figure size 1440x360 with 0 Axes>"
      ]
     },
     "metadata": {},
     "output_type": "display_data"
    },
    {
     "data": {
      "image/png": "[encoded data removed]",
      "text/plain": [
       "<Figure size 864x648 with 10 Axes>"
      ]
     },
     "metadata": {
      "needs_background": "light"
     },
     "output_type": "display_data"
    }
   ],
   "source": [
    "# Facet Grid\n",
    "\n",
    "plt.figure(figsize = [20, 5])\n",
    "bin7 = np.arange(loan['Estimatedreturn'].min(), loan['Estimatedreturn'].max()+0.01, 0.01)\n",
    "g = sb.FacetGrid(data = loan, col = 'Prosperscore', col_wrap = 4)\n",
    "g.map(plt.hist, 'Estimatedreturn', bins = bin7);"
   ]
  },
  {
   "cell_type": "markdown",
   "metadata": {},
   "source": [
    "#### Observations:\n",
    "- Estimated return is low for prosper score of 1 \n",
    "- Prosper rating of 4 has the highest Estimated return"
   ]
  },
  {
   "cell_type": "markdown",
   "metadata": {},
   "source": [
    "### 3. QUALITATIVE VS QUALITATIVE"
   ]
  },
  {
   "cell_type": "markdown",
   "metadata": {},
   "source": [
    "#### A. Distribution of Loan Status across the Income Ranges\n",
    "\n",
    "> What is the distribution of the loan status across the various income ranges?"
   ]
  },
  {
   "cell_type": "code",
   "execution_count": 56,
   "metadata": {},
   "outputs": [
    {
     "data": {
      "image/png": "[encoded data removed]",
      "text/plain": [
       "<Figure size 1440x504 with 2 Axes>"
      ]
     },
     "metadata": {
      "needs_background": "light"
     },
     "output_type": "display_data"
    }
   ],
   "source": [
    "plt.figure(figsize = [20,7])\n",
    "\n",
    "# Normal Chart\n",
    "plt.subplot(1,2,1)\n",
    "sb.countplot(data = loan, x = 'Incomerange', hue = 'Loanstatus');\n",
    "plt.xticks (rotation = 45)\n",
    "plt.xlabel('Income Range')\n",
    "plt.ylabel ('Count')\n",
    "plt.title('Loan Status across Income Range')\n",
    "plt.legend(bbox_to_anchor=(1.0, 1.0));\n",
    "\n",
    "# Scale transformed Chart\n",
    "plt.subplot(1,2,2)\n",
    "sb.countplot(data = loan, x = 'Incomerange', hue = 'Loanstatus');\n",
    "\n",
    "plt.yscale('log')\n",
    "tick = [1, 10, 100, 1000, 10000]\n",
    "label = ['{}'.format (v) for v in tick]\n",
    "plt.yticks(tick, label)\n",
    "plt.xticks (rotation = 45)\n",
    "plt.xlabel('Income Range')\n",
    "plt.ylabel ('Count');\n",
    "plt.title('Loan Status across Income Range')\n",
    "plt.legend(bbox_to_anchor=(1.0, 1.0));"
   ]
  },
  {
   "cell_type": "markdown",
   "metadata": {},
   "source": [
    "#### Observations:\n",
    "- Current loan status has the highest frequency across all income ranges except in $1 - $24.99k\n",
    "- The chargedoff loan status isn't visible across all income range at the normal plot. This is same for scale transformed plot except $25k - $49.99k"
   ]
  },
  {
   "cell_type": "markdown",
   "metadata": {},
   "source": [
    "#### B. Dsitribution of loan status across Prosper Rating (Alpha)\n",
    "\n",
    "> How is the loan status distributed across Prosper rating (alpha)?"
   ]
  },
  {
   "cell_type": "code",
   "execution_count": 57,
   "metadata": {},
   "outputs": [
    {
     "data": {
      "image/png": "[encoded data removed]",
      "text/plain": [
       "<Figure size 1440x504 with 2 Axes>"
      ]
     },
     "metadata": {
      "needs_background": "light"
     },
     "output_type": "display_data"
    }
   ],
   "source": [
    "plt.figure(figsize = [20,7])\n",
    "\n",
    "# Normal Chart\n",
    "plt.subplot(1,2,1)\n",
    "sb.countplot(data = loan, x = 'Prosperrating (alpha)', hue = 'Loanstatus');\n",
    "plt.xlabel('Prosper Rating (alpha)')\n",
    "plt.ylabel ('Count')\n",
    "plt.title('Loan Status across Prosper Rating (alpha)')\n",
    "plt.legend(bbox_to_anchor=(1.0, 1.0));\n",
    "\n",
    "# Scale transformed Chart\n",
    "plt.subplot(1,2,2)\n",
    "sb.countplot(data = loan, x = 'Prosperrating (alpha)', hue = 'Loanstatus');\n",
    "\n",
    "plt.yscale('log')\n",
    "tick = [1, 10, 100, 1000, 10000]\n",
    "label = ['{}'.format (v) for v in tick]\n",
    "plt.yticks(tick, label)\n",
    "plt.xlabel('Prosper Rating (alpha)')\n",
    "plt.ylabel ('Count');\n",
    "plt.title('Loan Status across Prosper Rating (alpha) - Scale Transformed')\n",
    "plt.legend(bbox_to_anchor=(1.0, 1.0));"
   ]
  },
  {
   "cell_type": "markdown",
   "metadata": {},
   "source": [
    "#### Observations:\n",
    "- The current loan status was the highest across all ratings\n",
    "- The current loan status was close to the completed loan status for rating HR while this isn't the case for all other ratings"
   ]
  },
  {
   "cell_type": "markdown",
   "metadata": {},
   "source": [
    "### Talk about some of the relationships you observed in this part of the investigation. How did the feature(s) of interest vary with other features in the dataset?\n",
    "\n",
    "> 1. There is a direct relationship between the income range, term and loan original amount. The loan original amount increased as the term and income range increased.\n",
    "\n",
    "> 2. Borrower rate and borrower api have direct relationship\n",
    "\n",
    "> 3. Unlike the relationship discussed above, there was no clear relationship between loan original amount and borrower apr as well as borrower rate. Further exploration will be needed to help understand the relationship \n"
   ]
  },
  {
   "cell_type": "markdown",
   "metadata": {},
   "source": [
    "## Multivariate Exploration\n",
    "\n",
    "> Create plots of three or more variables to investigate your data even\n",
    "further. Make sure that your investigations are justified, and follow from\n",
    "your work in the previous sections."
   ]
  },
  {
   "cell_type": "markdown",
   "metadata": {},
   "source": [
    "#### A. Distribution of Estimated Return and Borrower APR by Loan Status and Term\n",
    "> How does borrower rate and borrower apr affect the distribution of estimated return?"
   ]
  },
  {
   "cell_type": "code",
   "execution_count": 58,
   "metadata": {
    "scrolled": true
   },
   "outputs": [
    {
     "data": {
      "image/png": "[encoded data removed]",
      "text/plain": [
       "<Figure size 1512x648 with 21 Axes>"
      ]
     },
     "metadata": {
      "needs_background": "light"
     },
     "output_type": "display_data"
    }
   ],
   "source": [
    "g = sb.FacetGrid(data = loan, col = 'Loanstatus', row = 'Term', height = 3,\n",
    "                margin_titles = True)\n",
    "g.map(plt.scatter, 'Estimatedreturn', 'Borrowerapr');\n",
    "\n",
    "g.fig.suptitle('Correlation of Estimated Return and Borrower APR by Loan Status and Term');\n",
    "g.fig.subplots_adjust(top = 0.9);"
   ]
  },
  {
   "cell_type": "markdown",
   "metadata": {},
   "source": [
    "#### Observations:\n",
    "- Negative returns were abserved for loans that lasted for 36 months duration and particularly the ones that have either been completed or charged off\n",
    "- The highest borrower apr was observed for loans within the 36 months duration which is a positive sign for investment"
   ]
  },
  {
   "cell_type": "markdown",
   "metadata": {},
   "source": [
    "#### B. Distribution of Estimated Return and Loan Original Amount by Term\n",
    "> How does the distribution of estimated return and loan original amount look like when assessed by the loan term?"
   ]
  },
  {
   "cell_type": "code",
   "execution_count": 59,
   "metadata": {},
   "outputs": [
    {
     "data": {
      "image/png": "[encoded data removed]",
      "text/plain": [
       "<Figure size 864x288 with 3 Axes>"
      ]
     },
     "metadata": {
      "needs_background": "light"
     },
     "output_type": "display_data"
    }
   ],
   "source": [
    "g = sb.FacetGrid(data = loan, col = 'Term', height = 4)\n",
    "g.map(plt.scatter, 'Loanoriginalamount', 'Estimatedreturn');\n",
    "\n",
    "g.fig.suptitle('Correlation of Estimated Return and Loan Original Amount by Term');\n",
    "g.fig.subplots_adjust(top = 0.75);"
   ]
  },
  {
   "cell_type": "markdown",
   "metadata": {},
   "source": [
    "#### Observations:\n",
    "- The relationship is different across the three terms\n",
    "- Negative retunrs were seen for some transaction with 36 months term duration which is not good for business.\n",
    "- The highest estimated return was also observed for some transaction with 36 months duration but this declined continuously as the loan original amount increased "
   ]
  },
  {
   "cell_type": "markdown",
   "metadata": {},
   "source": [
    "### Talk about some of the relationships you observed in this part of the investigation. Were there features that strengthened each other in terms of looking at your feature(s) of interest?\n",
    "\n",
    "> 1. Negtaive estimated returns were observed for loans in the 36 months duration. This suggests that additional investigation should be done before investing for this duration. On the otherside, there were no negative estimated returns for 12 or 60 months duration\n",
    "\n",
    "> 2. Estimated return was highest for completed loans in the 36 months category compared to the other 2 durations\n",
    "\n",
    "### Were there any interesting or surprising interactions between features?\n",
    "\n",
    "> Loans within the 36 months category has varying characteristics of a loan; while more loans have been completed, it also had the highest number of defaulters"
   ]
  },
  {
   "cell_type": "markdown",
   "metadata": {},
   "source": [
    "## Conclusions\n",
    ">It is interesting to note that high loan original amount does not guarantee high estimated amount which is the general perception. This is supported by loans in each category of the loan duration; high estimated return was observed for lesser loan original amount and vice versa.\n"
   ]
  },
  {
   "cell_type": "markdown",
   "metadata": {},
   "source": [
    "## Limitations\n",
    "\n",
    "> The major limitations are;\n",
    "1. The loan dataset has a total of 81 variables but only 12 were utilized which limited the amount of information we could use\n",
    "2. Detailed data cleaning could not be done because the number of features. For example, dropping unwanted features may affect the variables of interest"
   ]
  }
 ],
 "metadata": {
  "kernelspec": {
   "display_name": "Python 3 (ipykernel)",
   "language": "python",
   "name": "python3"
  },
  "language_info": {
   "codemirror_mode": {
    "name": "ipython",
    "version": 3
   },
   "file_extension": ".py",
   "mimetype": "text/x-python",
   "name": "python",
   "nbconvert_exporter": "python",
   "pygments_lexer": "ipython3",
   "version": "3.9.12"
  }
 },
 "nbformat": 4,
 "nbformat_minor": 2
}
